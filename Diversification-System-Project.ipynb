{
 "cells": [
  {
   "cell_type": "code",
   "execution_count": 1,
   "metadata": {},
   "outputs": [],
   "source": [
    "import pandas as pd\n",
    "import numpy as np\n",
    "import datetime\n",
    "import quandl\n",
    "import config\n",
    "import matplotlib.pyplot as plt\n",
    "import seaborn as sns\n",
    "%matplotlib inline\n",
    "\n",
    "\n",
    "from sklearn import preprocessing\n",
    "from sklearn.model_selection import train_test_split\n",
    "from sklearn.cluster import KMeans\n",
    "\n",
    "\n",
    "from sklearn.metrics import silhouette_samples, silhouette_score\n",
    "import matplotlib.cm as cm\n",
    "from sklearn.decomposition import PCA\n",
    "\n",
    "# settings to observe x amount of rows in dataframe\n",
    "pd.set_option('max_rows', 500)\n",
    "pd.set_option('max_columns', 1000)\n",
    "\n",
    "# API Key\n",
    "#key = quandl.ApiConfig.api_key\n"
   ]
  },
  {
   "cell_type": "markdown",
   "metadata": {},
   "source": [
    "### OPENS FILES"
   ]
  },
  {
   "cell_type": "code",
   "execution_count": 2,
   "metadata": {},
   "outputs": [
    {
     "data": {
      "text/html": [
       "<div>\n",
       "<style scoped>\n",
       "    .dataframe tbody tr th:only-of-type {\n",
       "        vertical-align: middle;\n",
       "    }\n",
       "\n",
       "    .dataframe tbody tr th {\n",
       "        vertical-align: top;\n",
       "    }\n",
       "\n",
       "    .dataframe thead th {\n",
       "        text-align: right;\n",
       "    }\n",
       "</style>\n",
       "<table border=\"1\" class=\"dataframe\">\n",
       "  <thead>\n",
       "    <tr style=\"text-align: right;\">\n",
       "      <th></th>\n",
       "      <th>Symbol</th>\n",
       "      <th>Name</th>\n",
       "      <th>LastSale</th>\n",
       "      <th>MarketCap</th>\n",
       "      <th>ADR TSO</th>\n",
       "      <th>IPOyear</th>\n",
       "      <th>Sector</th>\n",
       "      <th>Industry</th>\n",
       "      <th>Summary Quote</th>\n",
       "      <th>Unnamed: 9</th>\n",
       "    </tr>\n",
       "  </thead>\n",
       "  <tbody>\n",
       "    <tr>\n",
       "      <th>0</th>\n",
       "      <td>DDD</td>\n",
       "      <td>3D Systems Corporation</td>\n",
       "      <td>9.15</td>\n",
       "      <td>1.041840e+09</td>\n",
       "      <td>NaN</td>\n",
       "      <td>NaN</td>\n",
       "      <td>Technology</td>\n",
       "      <td>Computer Software: Prepackaged Software</td>\n",
       "      <td>http://www.nasdaq.com/symbol/ddd</td>\n",
       "      <td>NaN</td>\n",
       "    </tr>\n",
       "  </tbody>\n",
       "</table>\n",
       "</div>"
      ],
      "text/plain": [
       "  Symbol                    Name  LastSale     MarketCap  ADR TSO  IPOyear  \\\n",
       "0    DDD  3D Systems Corporation      9.15  1.041840e+09      NaN      NaN   \n",
       "\n",
       "       Sector                                 Industry  \\\n",
       "0  Technology  Computer Software: Prepackaged Software   \n",
       "\n",
       "                      Summary Quote  Unnamed: 9  \n",
       "0  http://www.nasdaq.com/symbol/ddd         NaN  "
      ]
     },
     "execution_count": 2,
     "metadata": {},
     "output_type": "execute_result"
    }
   ],
   "source": [
    "# North America Publicly Traded Companies\n",
    "companies_data = pd.read_csv('/Users/Alfredo/Desktop/clustering-stocks/n_a_companylist.csv')\n",
    "companies_data.head(1)"
   ]
  },
  {
   "cell_type": "code",
   "execution_count": 3,
   "metadata": {},
   "outputs": [
    {
     "data": {
      "text/html": [
       "<div>\n",
       "<style scoped>\n",
       "    .dataframe tbody tr th:only-of-type {\n",
       "        vertical-align: middle;\n",
       "    }\n",
       "\n",
       "    .dataframe tbody tr th {\n",
       "        vertical-align: top;\n",
       "    }\n",
       "\n",
       "    .dataframe thead th {\n",
       "        text-align: right;\n",
       "    }\n",
       "</style>\n",
       "<table border=\"1\" class=\"dataframe\">\n",
       "  <thead>\n",
       "    <tr style=\"text-align: right;\">\n",
       "      <th></th>\n",
       "      <th>Ticker</th>\n",
       "      <th>Description</th>\n",
       "    </tr>\n",
       "  </thead>\n",
       "  <tbody>\n",
       "    <tr>\n",
       "      <th>0</th>\n",
       "      <td>WIKI/AAPL</td>\n",
       "      <td>Apple Inc (AAPL) Prices, Dividends, Splits and...</td>\n",
       "    </tr>\n",
       "  </tbody>\n",
       "</table>\n",
       "</div>"
      ],
      "text/plain": [
       "      Ticker                                        Description\n",
       "0  WIKI/AAPL  Apple Inc (AAPL) Prices, Dividends, Splits and..."
      ]
     },
     "execution_count": 3,
     "metadata": {},
     "output_type": "execute_result"
    }
   ],
   "source": [
    "# Quandl Available Companies\n",
    "tickers_data = pd.read_csv('/Users/Alfredo/Desktop/clustering-stocks/WIKI-datasets-codes.csv', header=-1)\n",
    "tickers_data.columns = ['Ticker', 'Description']\n",
    "tickers_data.head(1)"
   ]
  },
  {
   "cell_type": "code",
   "execution_count": 4,
   "metadata": {},
   "outputs": [
    {
     "name": "stdout",
     "output_type": "stream",
     "text": [
      "(2457, 10)\n",
      "(3196, 2)\n"
     ]
    }
   ],
   "source": [
    "print(companies_data.shape)\n",
    "print(tickers_data.shape)"
   ]
  },
  {
   "cell_type": "code",
   "execution_count": 5,
   "metadata": {},
   "outputs": [],
   "source": [
    "#print(companies_data.isnull().any())\n",
    "#print('\\n',tickers_data.isnull().any())"
   ]
  },
  {
   "cell_type": "markdown",
   "metadata": {},
   "source": [
    "## Filters and Macthes to available companies in both files"
   ]
  },
  {
   "cell_type": "code",
   "execution_count": 6,
   "metadata": {},
   "outputs": [
    {
     "data": {
      "text/html": [
       "<div>\n",
       "<style scoped>\n",
       "    .dataframe tbody tr th:only-of-type {\n",
       "        vertical-align: middle;\n",
       "    }\n",
       "\n",
       "    .dataframe tbody tr th {\n",
       "        vertical-align: top;\n",
       "    }\n",
       "\n",
       "    .dataframe thead th {\n",
       "        text-align: right;\n",
       "    }\n",
       "</style>\n",
       "<table border=\"1\" class=\"dataframe\">\n",
       "  <thead>\n",
       "    <tr style=\"text-align: right;\">\n",
       "      <th></th>\n",
       "      <th>Symbol</th>\n",
       "      <th>Name</th>\n",
       "      <th>LastSale</th>\n",
       "      <th>MarketCap</th>\n",
       "      <th>ADR TSO</th>\n",
       "      <th>IPOyear</th>\n",
       "      <th>Sector</th>\n",
       "      <th>Industry</th>\n",
       "      <th>Summary Quote</th>\n",
       "      <th>Unnamed: 9</th>\n",
       "    </tr>\n",
       "  </thead>\n",
       "  <tbody>\n",
       "    <tr>\n",
       "      <th>0</th>\n",
       "      <td>WIKI/DDD</td>\n",
       "      <td>3D Systems Corporation</td>\n",
       "      <td>9.15</td>\n",
       "      <td>1.041840e+09</td>\n",
       "      <td>NaN</td>\n",
       "      <td>NaN</td>\n",
       "      <td>Technology</td>\n",
       "      <td>Computer Software: Prepackaged Software</td>\n",
       "      <td>http://www.nasdaq.com/symbol/ddd</td>\n",
       "      <td>NaN</td>\n",
       "    </tr>\n",
       "  </tbody>\n",
       "</table>\n",
       "</div>"
      ],
      "text/plain": [
       "     Symbol                    Name  LastSale     MarketCap  ADR TSO  IPOyear  \\\n",
       "0  WIKI/DDD  3D Systems Corporation      9.15  1.041840e+09      NaN      NaN   \n",
       "\n",
       "       Sector                                 Industry  \\\n",
       "0  Technology  Computer Software: Prepackaged Software   \n",
       "\n",
       "                      Summary Quote  Unnamed: 9  \n",
       "0  http://www.nasdaq.com/symbol/ddd         NaN  "
      ]
     },
     "execution_count": 6,
     "metadata": {},
     "output_type": "execute_result"
    }
   ],
   "source": [
    "# AddS WIKI/ to Symbol FeatureS\n",
    "companies_data['Symbol'] = 'WIKI/' + companies_data['Symbol'].astype(str)\n",
    "\n",
    "# Gives all North America Publicly Traded Companies available through Quandl codes\n",
    "tickers_data = companies_data.loc[companies_data['Symbol'].isin(tickers_data.Ticker)]\n",
    "tickers_data.head(1)"
   ]
  },
  {
   "cell_type": "code",
   "execution_count": 7,
   "metadata": {},
   "outputs": [
    {
     "data": {
      "text/plain": [
       "(1135, 10)"
      ]
     },
     "execution_count": 7,
     "metadata": {},
     "output_type": "execute_result"
    }
   ],
   "source": [
    "tickers_data.shape"
   ]
  },
  {
   "cell_type": "markdown",
   "metadata": {},
   "source": [
    "### Opens data for each stock"
   ]
  },
  {
   "cell_type": "code",
   "execution_count": 8,
   "metadata": {},
   "outputs": [
    {
     "data": {
      "text/html": [
       "<div>\n",
       "<style scoped>\n",
       "    .dataframe tbody tr th:only-of-type {\n",
       "        vertical-align: middle;\n",
       "    }\n",
       "\n",
       "    .dataframe tbody tr th {\n",
       "        vertical-align: top;\n",
       "    }\n",
       "\n",
       "    .dataframe thead th {\n",
       "        text-align: right;\n",
       "    }\n",
       "</style>\n",
       "<table border=\"1\" class=\"dataframe\">\n",
       "  <thead>\n",
       "    <tr style=\"text-align: right;\">\n",
       "      <th></th>\n",
       "      <th>Date</th>\n",
       "      <th>Open</th>\n",
       "      <th>High</th>\n",
       "      <th>Low</th>\n",
       "      <th>Close</th>\n",
       "      <th>Volume</th>\n",
       "      <th>Ex-Dividend</th>\n",
       "      <th>Split Ratio</th>\n",
       "      <th>Adj. Open</th>\n",
       "      <th>Adj. High</th>\n",
       "      <th>Adj. Low</th>\n",
       "      <th>Adj. Close</th>\n",
       "      <th>Adj. Volume</th>\n",
       "      <th>Symbol</th>\n",
       "      <th>Name</th>\n",
       "      <th>LastSale</th>\n",
       "      <th>MarketCap</th>\n",
       "      <th>ADR TSO</th>\n",
       "      <th>IPOyear</th>\n",
       "      <th>Sector</th>\n",
       "      <th>Industry</th>\n",
       "      <th>Summary Quote</th>\n",
       "      <th>Unnamed: 9</th>\n",
       "    </tr>\n",
       "  </thead>\n",
       "  <tbody>\n",
       "    <tr>\n",
       "      <th>0</th>\n",
       "      <td>1990-11-05</td>\n",
       "      <td>3.88</td>\n",
       "      <td>4.25</td>\n",
       "      <td>3.25</td>\n",
       "      <td>4.25</td>\n",
       "      <td>34800.0</td>\n",
       "      <td>0.0</td>\n",
       "      <td>1.0</td>\n",
       "      <td>3.88</td>\n",
       "      <td>4.25</td>\n",
       "      <td>3.25</td>\n",
       "      <td>4.25</td>\n",
       "      <td>34800.0</td>\n",
       "      <td>WIKI/DDD</td>\n",
       "      <td>3D Systems Corporation</td>\n",
       "      <td>9.15</td>\n",
       "      <td>1.041840e+09</td>\n",
       "      <td>NaN</td>\n",
       "      <td>NaN</td>\n",
       "      <td>Technology</td>\n",
       "      <td>Computer Software: Prepackaged Software</td>\n",
       "      <td>http://www.nasdaq.com/symbol/ddd</td>\n",
       "      <td>NaN</td>\n",
       "    </tr>\n",
       "    <tr>\n",
       "      <th>1</th>\n",
       "      <td>1990-11-06</td>\n",
       "      <td>3.50</td>\n",
       "      <td>4.25</td>\n",
       "      <td>3.50</td>\n",
       "      <td>3.62</td>\n",
       "      <td>21600.0</td>\n",
       "      <td>0.0</td>\n",
       "      <td>1.0</td>\n",
       "      <td>3.50</td>\n",
       "      <td>4.25</td>\n",
       "      <td>3.50</td>\n",
       "      <td>3.62</td>\n",
       "      <td>21600.0</td>\n",
       "      <td>WIKI/DDD</td>\n",
       "      <td>3D Systems Corporation</td>\n",
       "      <td>9.15</td>\n",
       "      <td>1.041840e+09</td>\n",
       "      <td>NaN</td>\n",
       "      <td>NaN</td>\n",
       "      <td>Technology</td>\n",
       "      <td>Computer Software: Prepackaged Software</td>\n",
       "      <td>http://www.nasdaq.com/symbol/ddd</td>\n",
       "      <td>NaN</td>\n",
       "    </tr>\n",
       "    <tr>\n",
       "      <th>2</th>\n",
       "      <td>1990-11-07</td>\n",
       "      <td>3.50</td>\n",
       "      <td>4.00</td>\n",
       "      <td>3.50</td>\n",
       "      <td>4.00</td>\n",
       "      <td>20400.0</td>\n",
       "      <td>0.0</td>\n",
       "      <td>1.0</td>\n",
       "      <td>3.50</td>\n",
       "      <td>4.00</td>\n",
       "      <td>3.50</td>\n",
       "      <td>4.00</td>\n",
       "      <td>20400.0</td>\n",
       "      <td>WIKI/DDD</td>\n",
       "      <td>3D Systems Corporation</td>\n",
       "      <td>9.15</td>\n",
       "      <td>1.041840e+09</td>\n",
       "      <td>NaN</td>\n",
       "      <td>NaN</td>\n",
       "      <td>Technology</td>\n",
       "      <td>Computer Software: Prepackaged Software</td>\n",
       "      <td>http://www.nasdaq.com/symbol/ddd</td>\n",
       "      <td>NaN</td>\n",
       "    </tr>\n",
       "    <tr>\n",
       "      <th>3</th>\n",
       "      <td>1990-11-08</td>\n",
       "      <td>4.00</td>\n",
       "      <td>4.00</td>\n",
       "      <td>3.75</td>\n",
       "      <td>4.00</td>\n",
       "      <td>16800.0</td>\n",
       "      <td>0.0</td>\n",
       "      <td>1.0</td>\n",
       "      <td>4.00</td>\n",
       "      <td>4.00</td>\n",
       "      <td>3.75</td>\n",
       "      <td>4.00</td>\n",
       "      <td>16800.0</td>\n",
       "      <td>WIKI/DDD</td>\n",
       "      <td>3D Systems Corporation</td>\n",
       "      <td>9.15</td>\n",
       "      <td>1.041840e+09</td>\n",
       "      <td>NaN</td>\n",
       "      <td>NaN</td>\n",
       "      <td>Technology</td>\n",
       "      <td>Computer Software: Prepackaged Software</td>\n",
       "      <td>http://www.nasdaq.com/symbol/ddd</td>\n",
       "      <td>NaN</td>\n",
       "    </tr>\n",
       "    <tr>\n",
       "      <th>4</th>\n",
       "      <td>1990-11-09</td>\n",
       "      <td>4.00</td>\n",
       "      <td>4.00</td>\n",
       "      <td>3.50</td>\n",
       "      <td>3.50</td>\n",
       "      <td>300.0</td>\n",
       "      <td>0.0</td>\n",
       "      <td>1.0</td>\n",
       "      <td>4.00</td>\n",
       "      <td>4.00</td>\n",
       "      <td>3.50</td>\n",
       "      <td>3.50</td>\n",
       "      <td>300.0</td>\n",
       "      <td>WIKI/DDD</td>\n",
       "      <td>3D Systems Corporation</td>\n",
       "      <td>9.15</td>\n",
       "      <td>1.041840e+09</td>\n",
       "      <td>NaN</td>\n",
       "      <td>NaN</td>\n",
       "      <td>Technology</td>\n",
       "      <td>Computer Software: Prepackaged Software</td>\n",
       "      <td>http://www.nasdaq.com/symbol/ddd</td>\n",
       "      <td>NaN</td>\n",
       "    </tr>\n",
       "  </tbody>\n",
       "</table>\n",
       "</div>"
      ],
      "text/plain": [
       "        Date  Open  High   Low  Close   Volume  Ex-Dividend  Split Ratio  \\\n",
       "0 1990-11-05  3.88  4.25  3.25   4.25  34800.0          0.0          1.0   \n",
       "1 1990-11-06  3.50  4.25  3.50   3.62  21600.0          0.0          1.0   \n",
       "2 1990-11-07  3.50  4.00  3.50   4.00  20400.0          0.0          1.0   \n",
       "3 1990-11-08  4.00  4.00  3.75   4.00  16800.0          0.0          1.0   \n",
       "4 1990-11-09  4.00  4.00  3.50   3.50    300.0          0.0          1.0   \n",
       "\n",
       "   Adj. Open  Adj. High  Adj. Low  Adj. Close  Adj. Volume    Symbol  \\\n",
       "0       3.88       4.25      3.25        4.25      34800.0  WIKI/DDD   \n",
       "1       3.50       4.25      3.50        3.62      21600.0  WIKI/DDD   \n",
       "2       3.50       4.00      3.50        4.00      20400.0  WIKI/DDD   \n",
       "3       4.00       4.00      3.75        4.00      16800.0  WIKI/DDD   \n",
       "4       4.00       4.00      3.50        3.50        300.0  WIKI/DDD   \n",
       "\n",
       "                     Name  LastSale     MarketCap  ADR TSO  IPOyear  \\\n",
       "0  3D Systems Corporation      9.15  1.041840e+09      NaN      NaN   \n",
       "1  3D Systems Corporation      9.15  1.041840e+09      NaN      NaN   \n",
       "2  3D Systems Corporation      9.15  1.041840e+09      NaN      NaN   \n",
       "3  3D Systems Corporation      9.15  1.041840e+09      NaN      NaN   \n",
       "4  3D Systems Corporation      9.15  1.041840e+09      NaN      NaN   \n",
       "\n",
       "       Sector                                 Industry  \\\n",
       "0  Technology  Computer Software: Prepackaged Software   \n",
       "1  Technology  Computer Software: Prepackaged Software   \n",
       "2  Technology  Computer Software: Prepackaged Software   \n",
       "3  Technology  Computer Software: Prepackaged Software   \n",
       "4  Technology  Computer Software: Prepackaged Software   \n",
       "\n",
       "                      Summary Quote  Unnamed: 9  \n",
       "0  http://www.nasdaq.com/symbol/ddd         NaN  \n",
       "1  http://www.nasdaq.com/symbol/ddd         NaN  \n",
       "2  http://www.nasdaq.com/symbol/ddd         NaN  \n",
       "3  http://www.nasdaq.com/symbol/ddd         NaN  \n",
       "4  http://www.nasdaq.com/symbol/ddd         NaN  "
      ]
     },
     "execution_count": 8,
     "metadata": {},
     "output_type": "execute_result"
    }
   ],
   "source": [
    "tickers = tickers_data.Symbol[:100].tolist()\n",
    "symbols = []\n",
    "\n",
    "for sym in tickers:\n",
    "    \n",
    "    start = \"\"\n",
    "    end = \"\"   \n",
    "    mydata = quandl.get(sym, start_date=start, end_date=end, api_key = key)\n",
    "    mydata['Symbol'] = sym\n",
    "    symbols.append(mydata)\n",
    "       \n",
    "# attach tickers tables\n",
    "mydata = pd.concat(symbols)\n",
    "\n",
    "# Reset index/build Date into a column\n",
    "mydata.reset_index(inplace=True)\n",
    "\n",
    "#Merges tickers data features\n",
    "mydata = mydata.merge(tickers_data)\n",
    "mydata.head()"
   ]
  },
  {
   "cell_type": "code",
   "execution_count": null,
   "metadata": {},
   "outputs": [],
   "source": []
  },
  {
   "cell_type": "markdown",
   "metadata": {},
   "source": [
    "### Drops Not Needed Columns"
   ]
  },
  {
   "cell_type": "code",
   "execution_count": 9,
   "metadata": {},
   "outputs": [
    {
     "data": {
      "text/html": [
       "<div>\n",
       "<style scoped>\n",
       "    .dataframe tbody tr th:only-of-type {\n",
       "        vertical-align: middle;\n",
       "    }\n",
       "\n",
       "    .dataframe tbody tr th {\n",
       "        vertical-align: top;\n",
       "    }\n",
       "\n",
       "    .dataframe thead th {\n",
       "        text-align: right;\n",
       "    }\n",
       "</style>\n",
       "<table border=\"1\" class=\"dataframe\">\n",
       "  <thead>\n",
       "    <tr style=\"text-align: right;\">\n",
       "      <th></th>\n",
       "      <th>Date</th>\n",
       "      <th>Volume</th>\n",
       "      <th>Ex-Dividend</th>\n",
       "      <th>Adj. Close</th>\n",
       "      <th>Symbol</th>\n",
       "      <th>MarketCap</th>\n",
       "    </tr>\n",
       "  </thead>\n",
       "  <tbody>\n",
       "    <tr>\n",
       "      <th>0</th>\n",
       "      <td>1990-11-05</td>\n",
       "      <td>34800.0</td>\n",
       "      <td>0.0</td>\n",
       "      <td>4.25</td>\n",
       "      <td>WIKI/DDD</td>\n",
       "      <td>1.041840e+09</td>\n",
       "    </tr>\n",
       "    <tr>\n",
       "      <th>1</th>\n",
       "      <td>1990-11-06</td>\n",
       "      <td>21600.0</td>\n",
       "      <td>0.0</td>\n",
       "      <td>3.62</td>\n",
       "      <td>WIKI/DDD</td>\n",
       "      <td>1.041840e+09</td>\n",
       "    </tr>\n",
       "  </tbody>\n",
       "</table>\n",
       "</div>"
      ],
      "text/plain": [
       "        Date   Volume  Ex-Dividend  Adj. Close    Symbol     MarketCap\n",
       "0 1990-11-05  34800.0          0.0        4.25  WIKI/DDD  1.041840e+09\n",
       "1 1990-11-06  21600.0          0.0        3.62  WIKI/DDD  1.041840e+09"
      ]
     },
     "execution_count": 9,
     "metadata": {},
     "output_type": "execute_result"
    }
   ],
   "source": [
    "# Drop Not Needed Columns\n",
    "mydata = mydata.drop(['Open','High','Low','Close','Split Ratio',\n",
    "       'Adj. Open', 'Adj. High', 'Adj. Low', 'Adj. Volume','Sector',\n",
    "        'Industry','Name','LastSale','ADR TSO','IPOyear','Summary Quote','Unnamed: 9'], axis=1)\n",
    "mydata.head(2)"
   ]
  },
  {
   "cell_type": "markdown",
   "metadata": {},
   "source": [
    "### Data Wrangling and Feature Engineering"
   ]
  },
  {
   "cell_type": "code",
   "execution_count": 10,
   "metadata": {},
   "outputs": [
    {
     "data": {
      "text/html": [
       "<div>\n",
       "<style scoped>\n",
       "    .dataframe tbody tr th:only-of-type {\n",
       "        vertical-align: middle;\n",
       "    }\n",
       "\n",
       "    .dataframe tbody tr th {\n",
       "        vertical-align: top;\n",
       "    }\n",
       "\n",
       "    .dataframe thead th {\n",
       "        text-align: right;\n",
       "    }\n",
       "</style>\n",
       "<table border=\"1\" class=\"dataframe\">\n",
       "  <thead>\n",
       "    <tr style=\"text-align: right;\">\n",
       "      <th></th>\n",
       "      <th>Symbol</th>\n",
       "      <th>MarketCap</th>\n",
       "      <th>Yys_Pbl_Traded</th>\n",
       "      <th>Avg_Daily_DolsTraded</th>\n",
       "      <th>Avg_Daily_Return</th>\n",
       "      <th>Std_Daily_Return</th>\n",
       "      <th>Daily_Sharpe_Ratio</th>\n",
       "      <th>Dividend_Yield</th>\n",
       "    </tr>\n",
       "  </thead>\n",
       "  <tbody>\n",
       "    <tr>\n",
       "      <th>0</th>\n",
       "      <td>A</td>\n",
       "      <td>21722962316</td>\n",
       "      <td>19.0</td>\n",
       "      <td>108476601</td>\n",
       "      <td>0.001548</td>\n",
       "      <td>0.010437</td>\n",
       "      <td>0.148329</td>\n",
       "      <td>0.006698</td>\n",
       "    </tr>\n",
       "    <tr>\n",
       "      <th>1</th>\n",
       "      <td>AAN</td>\n",
       "      <td>2929260228</td>\n",
       "      <td>34.0</td>\n",
       "      <td>30411569</td>\n",
       "      <td>-0.000906</td>\n",
       "      <td>0.041266</td>\n",
       "      <td>-0.021956</td>\n",
       "      <td>0.002216</td>\n",
       "    </tr>\n",
       "    <tr>\n",
       "      <th>2</th>\n",
       "      <td>AAP</td>\n",
       "      <td>7534644464</td>\n",
       "      <td>17.0</td>\n",
       "      <td>201132166</td>\n",
       "      <td>0.011275</td>\n",
       "      <td>0.208698</td>\n",
       "      <td>0.054024</td>\n",
       "      <td>0.001468</td>\n",
       "    </tr>\n",
       "  </tbody>\n",
       "</table>\n",
       "</div>"
      ],
      "text/plain": [
       "  Symbol    MarketCap  Yys_Pbl_Traded Avg_Daily_DolsTraded  Avg_Daily_Return  \\\n",
       "0      A  21722962316            19.0            108476601          0.001548   \n",
       "1    AAN   2929260228            34.0             30411569         -0.000906   \n",
       "2    AAP   7534644464            17.0            201132166          0.011275   \n",
       "\n",
       "   Std_Daily_Return  Daily_Sharpe_Ratio  Dividend_Yield  \n",
       "0          0.010437            0.148329        0.006698  \n",
       "1          0.041266           -0.021956        0.002216  \n",
       "2          0.208698            0.054024        0.001468  "
      ]
     },
     "execution_count": 10,
     "metadata": {},
     "output_type": "execute_result"
    }
   ],
   "source": [
    "# Builds column for publicly Traded Years\n",
    "mydata['Yys_Pbl_Traded'] = mydata.groupby('Symbol').Date.transform(lambda x: x.dt.year.max() - x.dt.year.min())\n",
    "\n",
    "# Filters dates for 2017\n",
    "mydata = mydata[(mydata.Date >= '2017-01-01') & (mydata.Date < '2018-01-01')]\n",
    "\n",
    "# Slices WIKI/ out of Symbol values\n",
    "mydata['Symbol'] = mydata['Symbol'].map(lambda x: str(x)[5:])\n",
    "\n",
    "# Changes MarketCap feature from scientific notation to integer value\n",
    "mydata['MarketCap'] = mydata['MarketCap'].apply(lambda x: '%.f' % x)\n",
    "\n",
    "# resetting indexes\n",
    "mydata = mydata.set_index(['Date','Symbol']).unstack(0).stack(dropna=False).groupby(level='Symbol').ffill().bfill()\n",
    "\n",
    "# Calculates the average daily dollars traded\n",
    "avg_dtrades = mydata.groupby('Symbol').Volume.transform('mean')\n",
    "avg_stk_price = mydata.groupby('Symbol')['Adj. Close'].transform('mean')\n",
    "mydata['Avg_Daily_DolsTraded'] = (avg_dtrades*avg_stk_price).apply(lambda x: '%.f' % x)\n",
    "\n",
    "# Builds daily return column\n",
    "mydata['Daily_Return'] = mydata['Adj. Close'].pct_change(1)\n",
    "\n",
    "# Mean Daily Return\n",
    "d_mean_return = mydata.groupby('Symbol').Daily_Return.transform('mean').to_frame()\n",
    "mydata['Avg_Daily_Return'] = d_mean_return\n",
    "\n",
    "# Std Daily\n",
    "d_std_return = mydata.groupby('Symbol').Daily_Return.transform('std').to_frame()\n",
    "mydata['Std_Daily_Return'] = d_std_return\n",
    "\n",
    "# Calculates Daily Sharpe Ratio(Calculates risk adjusted return)\n",
    "# mean return - risk free rate / standard deviation\n",
    "# For this formula we are assuming a risk free rate of 0(different people,different opinions)\n",
    "sr = d_mean_return/d_std_return\n",
    "mydata['Daily_Sharpe_Ratio'] = sr\n",
    "\n",
    "\n",
    "# Dividend Yield, % paid relative to share price\n",
    "avg_price = mydata.groupby('Symbol')['Adj. Close'].transform('mean')\n",
    "total_dividen = mydata.groupby('Symbol')['Ex-Dividend'].transform('sum')\n",
    "dividend_yield = total_dividen/avg_price\n",
    "mydata['Dividend_Yield'] = dividend_yield\n",
    "\n",
    "# Formats total values by ticker\n",
    "mydata = mydata.reset_index(level=1, drop=True).groupby('Symbol').first()\n",
    "mydata = mydata.drop(['Volume','Ex-Dividend','Adj. Close','Daily_Return'], axis=1).reset_index()\n",
    "mydata.head(3)"
   ]
  },
  {
   "cell_type": "code",
   "execution_count": 11,
   "metadata": {},
   "outputs": [
    {
     "data": {
      "text/plain": [
       "Symbol                  False\n",
       "MarketCap               False\n",
       "Yys_Pbl_Traded          False\n",
       "Avg_Daily_DolsTraded    False\n",
       "Avg_Daily_Return        False\n",
       "Std_Daily_Return        False\n",
       "Daily_Sharpe_Ratio      False\n",
       "Dividend_Yield          False\n",
       "dtype: bool"
      ]
     },
     "execution_count": 11,
     "metadata": {},
     "output_type": "execute_result"
    }
   ],
   "source": [
    "mydata.isnull().any()"
   ]
  },
  {
   "cell_type": "code",
   "execution_count": 12,
   "metadata": {},
   "outputs": [
    {
     "data": {
      "text/plain": [
       "Symbol                   object\n",
       "MarketCap                object\n",
       "Yys_Pbl_Traded          float64\n",
       "Avg_Daily_DolsTraded     object\n",
       "Avg_Daily_Return        float64\n",
       "Std_Daily_Return        float64\n",
       "Daily_Sharpe_Ratio      float64\n",
       "Dividend_Yield          float64\n",
       "dtype: object"
      ]
     },
     "execution_count": 12,
     "metadata": {},
     "output_type": "execute_result"
    }
   ],
   "source": [
    "mydata.dtypes"
   ]
  },
  {
   "cell_type": "code",
   "execution_count": 13,
   "metadata": {},
   "outputs": [
    {
     "data": {
      "text/plain": [
       "Symbol                   object\n",
       "MarketCap               float64\n",
       "Yys_Pbl_Traded          float64\n",
       "Avg_Daily_DolsTraded    float64\n",
       "Avg_Daily_Return        float64\n",
       "Std_Daily_Return        float64\n",
       "Daily_Sharpe_Ratio      float64\n",
       "Dividend_Yield          float64\n",
       "dtype: object"
      ]
     },
     "execution_count": 13,
     "metadata": {},
     "output_type": "execute_result"
    }
   ],
   "source": [
    "# Builds object data types to numerical data types \n",
    "mydata['MarketCap'] = mydata['MarketCap'].astype('float64')\n",
    "mydata['Avg_Daily_DolsTraded'] = mydata['Avg_Daily_DolsTraded'].astype('float64')\n",
    "\n",
    "mydata.dtypes"
   ]
  },
  {
   "cell_type": "markdown",
   "metadata": {},
   "source": [
    "## Outliers:"
   ]
  },
  {
   "cell_type": "code",
   "execution_count": 14,
   "metadata": {},
   "outputs": [
    {
     "data": {
      "image/png": "[encoded data removed]",
      "text/plain": [
       "<matplotlib.figure.Figure at 0x260c755b4a8>"
      ]
     },
     "metadata": {},
     "output_type": "display_data"
    },
    {
     "data": {
      "image/png": "[encoded data removed]",
      "text/plain": [
       "<matplotlib.figure.Figure at 0x260c755be48>"
      ]
     },
     "metadata": {},
     "output_type": "display_data"
    },
    {
     "data": {
      "image/png": "[encoded data removed]",
      "text/plain": [
       "<matplotlib.figure.Figure at 0x260c735da58>"
      ]
     },
     "metadata": {},
     "output_type": "display_data"
    },
    {
     "data": {
      "image/png": "[encoded data removed]",
      "text/plain": [
       "<matplotlib.figure.Figure at 0x260c7514470>"
      ]
     },
     "metadata": {},
     "output_type": "display_data"
    },
    {
     "data": {
      "image/png": "[encoded data removed]",
      "text/plain": [
       "<matplotlib.figure.Figure at 0x260c7384470>"
      ]
     },
     "metadata": {},
     "output_type": "display_data"
    },
    {
     "data": {
      "image/png": "[encoded data removed]",
      "text/plain": [
       "<matplotlib.figure.Figure at 0x260c746ac50>"
      ]
     },
     "metadata": {},
     "output_type": "display_data"
    },
    {
     "data": {
      "image/png": "[encoded data removed]",
      "text/plain": [
       "<matplotlib.figure.Figure at 0x260c7a9f240>"
      ]
     },
     "metadata": {},
     "output_type": "display_data"
    }
   ],
   "source": [
    "# Visualizing the columns data\n",
    "for i, col in enumerate(mydata.columns[1:]):\n",
    "    plt.figure(figsize=(12,1))\n",
    "    sns.boxplot(x=col, data=mydata)\n",
    "plt.show()"
   ]
  },
  {
   "cell_type": "code",
   "execution_count": 15,
   "metadata": {},
   "outputs": [
    {
     "data": {
      "text/html": [
       "<div>\n",
       "<style scoped>\n",
       "    .dataframe tbody tr th:only-of-type {\n",
       "        vertical-align: middle;\n",
       "    }\n",
       "\n",
       "    .dataframe tbody tr th {\n",
       "        vertical-align: top;\n",
       "    }\n",
       "\n",
       "    .dataframe thead th {\n",
       "        text-align: right;\n",
       "    }\n",
       "</style>\n",
       "<table border=\"1\" class=\"dataframe\">\n",
       "  <thead>\n",
       "    <tr style=\"text-align: right;\">\n",
       "      <th></th>\n",
       "      <th>Outliers-Count</th>\n",
       "    </tr>\n",
       "  </thead>\n",
       "  <tbody>\n",
       "    <tr>\n",
       "      <th>MarketCap</th>\n",
       "      <td>11</td>\n",
       "    </tr>\n",
       "    <tr>\n",
       "      <th>Yys_Pbl_Traded</th>\n",
       "      <td>0</td>\n",
       "    </tr>\n",
       "    <tr>\n",
       "      <th>Avg_Daily_DolsTraded</th>\n",
       "      <td>8</td>\n",
       "    </tr>\n",
       "    <tr>\n",
       "      <th>Avg_Daily_Return</th>\n",
       "      <td>11</td>\n",
       "    </tr>\n",
       "    <tr>\n",
       "      <th>Std_Daily_Return</th>\n",
       "      <td>17</td>\n",
       "    </tr>\n",
       "    <tr>\n",
       "      <th>Daily_Sharpe_Ratio</th>\n",
       "      <td>0</td>\n",
       "    </tr>\n",
       "    <tr>\n",
       "      <th>Dividend_Yield</th>\n",
       "      <td>8</td>\n",
       "    </tr>\n",
       "  </tbody>\n",
       "</table>\n",
       "</div>"
      ],
      "text/plain": [
       "                      Outliers-Count\n",
       "MarketCap                         11\n",
       "Yys_Pbl_Traded                     0\n",
       "Avg_Daily_DolsTraded               8\n",
       "Avg_Daily_Return                  11\n",
       "Std_Daily_Return                  17\n",
       "Daily_Sharpe_Ratio                 0\n",
       "Dividend_Yield                     8"
      ]
     },
     "execution_count": 15,
     "metadata": {},
     "output_type": "execute_result"
    }
   ],
   "source": [
    "# Builds Quartiles value objects\n",
    "Q1 = mydata.quantile(0.25)\n",
    "Q3 = mydata.quantile(0.75)\n",
    "IQR = Q3 - Q1\n",
    "\n",
    "# Reasonable Inner Fences/Borders Outliers counts\n",
    "((mydata.loc[:, 'MarketCap':'Dividend_Yield'] < (Q1 - 1.5 * IQR)) | \n",
    "(mydata.loc[:, 'MarketCap':'Dividend_Yield'] > (Q3 + 1.5 * IQR))).sum().to_frame('Outliers-Count')"
   ]
  },
  {
   "cell_type": "code",
   "execution_count": 16,
   "metadata": {},
   "outputs": [
    {
     "data": {
      "text/html": [
       "<div>\n",
       "<style scoped>\n",
       "    .dataframe tbody tr th:only-of-type {\n",
       "        vertical-align: middle;\n",
       "    }\n",
       "\n",
       "    .dataframe tbody tr th {\n",
       "        vertical-align: top;\n",
       "    }\n",
       "\n",
       "    .dataframe thead th {\n",
       "        text-align: right;\n",
       "    }\n",
       "</style>\n",
       "<table border=\"1\" class=\"dataframe\">\n",
       "  <thead>\n",
       "    <tr style=\"text-align: right;\">\n",
       "      <th></th>\n",
       "      <th>Outliers-Count</th>\n",
       "    </tr>\n",
       "  </thead>\n",
       "  <tbody>\n",
       "    <tr>\n",
       "      <th>MarketCap</th>\n",
       "      <td>6</td>\n",
       "    </tr>\n",
       "    <tr>\n",
       "      <th>Yys_Pbl_Traded</th>\n",
       "      <td>0</td>\n",
       "    </tr>\n",
       "    <tr>\n",
       "      <th>Avg_Daily_DolsTraded</th>\n",
       "      <td>2</td>\n",
       "    </tr>\n",
       "    <tr>\n",
       "      <th>Avg_Daily_Return</th>\n",
       "      <td>7</td>\n",
       "    </tr>\n",
       "    <tr>\n",
       "      <th>Std_Daily_Return</th>\n",
       "      <td>12</td>\n",
       "    </tr>\n",
       "    <tr>\n",
       "      <th>Daily_Sharpe_Ratio</th>\n",
       "      <td>0</td>\n",
       "    </tr>\n",
       "    <tr>\n",
       "      <th>Dividend_Yield</th>\n",
       "      <td>1</td>\n",
       "    </tr>\n",
       "  </tbody>\n",
       "</table>\n",
       "</div>"
      ],
      "text/plain": [
       "                      Outliers-Count\n",
       "MarketCap                          6\n",
       "Yys_Pbl_Traded                     0\n",
       "Avg_Daily_DolsTraded               2\n",
       "Avg_Daily_Return                   7\n",
       "Std_Daily_Return                  12\n",
       "Daily_Sharpe_Ratio                 0\n",
       "Dividend_Yield                     1"
      ]
     },
     "execution_count": 16,
     "metadata": {},
     "output_type": "execute_result"
    }
   ],
   "source": [
    "# Extrem Outter Fences/Borders outliers counts\n",
    "((mydata.loc[:, 'MarketCap':'Dividend_Yield'] < (Q1 - 3 * IQR)) | \n",
    "(mydata.loc[:, 'MarketCap':'Dividend_Yield'] > (Q3 + 3 * IQR))).sum().to_frame('Outliers-Count')"
   ]
  },
  {
   "cell_type": "code",
   "execution_count": 17,
   "metadata": {},
   "outputs": [
    {
     "data": {
      "text/html": [
       "<div>\n",
       "<style scoped>\n",
       "    .dataframe tbody tr th:only-of-type {\n",
       "        vertical-align: middle;\n",
       "    }\n",
       "\n",
       "    .dataframe tbody tr th {\n",
       "        vertical-align: top;\n",
       "    }\n",
       "\n",
       "    .dataframe thead th {\n",
       "        text-align: right;\n",
       "    }\n",
       "</style>\n",
       "<table border=\"1\" class=\"dataframe\">\n",
       "  <thead>\n",
       "    <tr style=\"text-align: right;\">\n",
       "      <th></th>\n",
       "      <th>Symbol</th>\n",
       "      <th>MarketCap</th>\n",
       "      <th>Yys_Pbl_Traded</th>\n",
       "      <th>Avg_Daily_DolsTraded</th>\n",
       "      <th>Avg_Daily_Return</th>\n",
       "      <th>Std_Daily_Return</th>\n",
       "      <th>Daily_Sharpe_Ratio</th>\n",
       "      <th>Dividend_Yield</th>\n",
       "    </tr>\n",
       "  </thead>\n",
       "  <tbody>\n",
       "    <tr>\n",
       "      <th>0</th>\n",
       "      <td>A</td>\n",
       "      <td>2.172296e+10</td>\n",
       "      <td>19.0</td>\n",
       "      <td>108476601.0</td>\n",
       "      <td>0.001548</td>\n",
       "      <td>0.010437</td>\n",
       "      <td>0.148329</td>\n",
       "      <td>0.006698</td>\n",
       "    </tr>\n",
       "  </tbody>\n",
       "</table>\n",
       "</div>"
      ],
      "text/plain": [
       "  Symbol     MarketCap  Yys_Pbl_Traded  Avg_Daily_DolsTraded  \\\n",
       "0      A  2.172296e+10            19.0           108476601.0   \n",
       "\n",
       "   Avg_Daily_Return  Std_Daily_Return  Daily_Sharpe_Ratio  Dividend_Yield  \n",
       "0          0.001548          0.010437            0.148329        0.006698  "
      ]
     },
     "execution_count": 17,
     "metadata": {},
     "output_type": "execute_result"
    }
   ],
   "source": [
    "mydata.head(1)"
   ]
  },
  {
   "cell_type": "code",
   "execution_count": 18,
   "metadata": {},
   "outputs": [
    {
     "data": {
      "text/plain": [
       "(92, 7)"
      ]
     },
     "execution_count": 18,
     "metadata": {},
     "output_type": "execute_result"
    }
   ],
   "source": [
    "# Resets Index to value ('Symbol')\n",
    "mydata = mydata.set_index('Symbol')\n",
    "\n",
    "# Excluding outliers withing 3 Standard Deviations\n",
    "mydata = mydata[mydata.apply(lambda x: np.abs(x - x.mean()) / x.std() < 3).all(axis=1)]\n",
    "mydata.shape"
   ]
  },
  {
   "cell_type": "code",
   "execution_count": 19,
   "metadata": {},
   "outputs": [
    {
     "data": {
      "image/png": "[encoded data removed]",
      "text/plain": [
       "<matplotlib.figure.Figure at 0x260c76fc240>"
      ]
     },
     "metadata": {},
     "output_type": "display_data"
    },
    {
     "data": {
      "image/png": "[encoded data removed]",
      "text/plain": [
       "<matplotlib.figure.Figure at 0x260c76f2400>"
      ]
     },
     "metadata": {},
     "output_type": "display_data"
    },
    {
     "data": {
      "image/png": "[encoded data removed]",
      "text/plain": [
       "<matplotlib.figure.Figure at 0x260c740e320>"
      ]
     },
     "metadata": {},
     "output_type": "display_data"
    },
    {
     "data": {
      "image/png": "[encoded data removed]",
      "text/plain": [
       "<matplotlib.figure.Figure at 0x260c783d4e0>"
      ]
     },
     "metadata": {},
     "output_type": "display_data"
    },
    {
     "data": {
      "image/png": "[encoded data removed]",
      "text/plain": [
       "<matplotlib.figure.Figure at 0x260c9bcbe10>"
      ]
     },
     "metadata": {},
     "output_type": "display_data"
    },
    {
     "data": {
      "image/png": "[encoded data removed]",
      "text/plain": [
       "<matplotlib.figure.Figure at 0x260c9c13f60>"
      ]
     },
     "metadata": {},
     "output_type": "display_data"
    },
    {
     "data": {
      "image/png": "[encoded data removed]",
      "text/plain": [
       "<matplotlib.figure.Figure at 0x260c7433940>"
      ]
     },
     "metadata": {},
     "output_type": "display_data"
    }
   ],
   "source": [
    "# Visualizing the columns data after treatment of outliers\n",
    "for i, col in enumerate(mydata.columns[:]):\n",
    "    plt.figure(figsize=(12,1))\n",
    "    sns.boxplot(x=col, data=mydata)\n",
    "plt.show()"
   ]
  },
  {
   "cell_type": "markdown",
   "metadata": {},
   "source": [
    "### Scaling Data for Model"
   ]
  },
  {
   "cell_type": "code",
   "execution_count": 20,
   "metadata": {},
   "outputs": [
    {
     "name": "stdout",
     "output_type": "stream",
     "text": [
      "mean: 0.0\n",
      "std: 1.0\n"
     ]
    },
    {
     "name": "stderr",
     "output_type": "stream",
     "text": [
      "C:\\Users\\Alfredo\\Anaconda3\\lib\\site-packages\\sklearn\\preprocessing\\data.py:164: UserWarning: Numerical issues were encountered when centering the data and might not be solved. Dataset may contain too large values. You may need to prescale your features.\n",
      "  warnings.warn(\"Numerical issues were encountered \"\n"
     ]
    }
   ],
   "source": [
    "# Turns data into a matrix box\n",
    "data = mydata.as_matrix(columns=[ 'MarketCap', 'Yys_Publ_Trded','Avg_Daily_DolsTraded',\n",
    "       'Avg_Daily_Return', 'Std_Daily_Return', 'Daily_Sharpe_Ratio',\n",
    "       'Dividend_Yield'])\n",
    "\n",
    "x_cols = data\n",
    "\n",
    "# scales data\n",
    "scaled_cols = preprocessing.scale(x_cols)\n",
    "print('mean:',round(scaled_cols.mean()))\n",
    "print('std:',scaled_cols.std())"
   ]
  },
  {
   "cell_type": "code",
   "execution_count": 21,
   "metadata": {},
   "outputs": [
    {
     "name": "stdout",
     "output_type": "stream",
     "text": [
      "(64, 6)\n",
      "(28, 6)\n"
     ]
    }
   ],
   "source": [
    "#splits data\n",
    "clust_train, clust_test = train_test_split(scaled_cols, test_size=.3, random_state=123)\n",
    "\n",
    "print(clust_train.shape)\n",
    "print(clust_test.shape)"
   ]
  },
  {
   "cell_type": "code",
   "execution_count": 22,
   "metadata": {},
   "outputs": [
    {
     "data": {
      "image/png": "[encoded data removed]",
      "text/plain": [
       "<matplotlib.figure.Figure at 0x260c7362dd8>"
      ]
     },
     "metadata": {},
     "output_type": "display_data"
    }
   ],
   "source": [
    "# Searching for elbow(optimal number of clusters)\n",
    "# Average distance value to centroids\n",
    "K_range = range(2,11)\n",
    "y =[]\n",
    "\n",
    "for k in K_range:\n",
    "    k_means = KMeans(n_clusters= k, random_state = 1, init = 'k-means++')\n",
    "    k_means.fit(clust_train)\n",
    "    labels=k_means.labels_\n",
    "    y.append(k_means.inertia_)\n",
    "\n",
    "plt.plot(K_range, y, color='blue')\n",
    "plt.xlabel('# of Clusters')\n",
    "plt.ylabel('Related to Cluster Sum of Square')\n",
    "plt.title('Related to Cluster Sum of Square Vs # of Clusters')\n",
    "plt.show()"
   ]
  },
  {
   "cell_type": "code",
   "execution_count": 23,
   "metadata": {},
   "outputs": [
    {
     "name": "stdout",
     "output_type": "stream",
     "text": [
      "For n_clusters = 2 The average silhouette_score is : 0.407461586407\n"
     ]
    },
    {
     "data": {
      "image/png": "[encoded data removed]",
      "text/plain": [
       "<matplotlib.figure.Figure at 0x260c75eeda0>"
      ]
     },
     "metadata": {},
     "output_type": "display_data"
    },
    {
     "name": "stdout",
     "output_type": "stream",
     "text": [
      "For n_clusters = 3 The average silhouette_score is : 0.393193167898\n"
     ]
    },
    {
     "data": {
      "image/png": "[encoded data removed]",
      "text/plain": [
       "<matplotlib.figure.Figure at 0x260c7476b38>"
      ]
     },
     "metadata": {},
     "output_type": "display_data"
    },
    {
     "name": "stdout",
     "output_type": "stream",
     "text": [
      "For n_clusters = 4 The average silhouette_score is : 0.370508210404\n"
     ]
    },
    {
     "data": {
      "image/png": "[encoded data removed]",
      "text/plain": [
       "<matplotlib.figure.Figure at 0x260c73b1860>"
      ]
     },
     "metadata": {},
     "output_type": "display_data"
    },
    {
     "name": "stdout",
     "output_type": "stream",
     "text": [
      "For n_clusters = 5 The average silhouette_score is : 0.415223390883\n"
     ]
    },
    {
     "data": {
      "image/png": "[encoded data removed]",
      "text/plain": [
       "<matplotlib.figure.Figure at 0x260c7542208>"
      ]
     },
     "metadata": {},
     "output_type": "display_data"
    },
    {
     "name": "stdout",
     "output_type": "stream",
     "text": [
      "For n_clusters = 6 The average silhouette_score is : 0.391604625076\n"
     ]
    },
    {
     "data": {
      "image/png": "[encoded data removed]",
      "text/plain": [
       "<matplotlib.figure.Figure at 0x260c75c7668>"
      ]
     },
     "metadata": {},
     "output_type": "display_data"
    }
   ],
   "source": [
    "range_n_clusters = [2, 3, 4, 5, 6]\n",
    "X=clust_train\n",
    "\n",
    "for n_clusters in range_n_clusters:\n",
    "    \n",
    "# SETTING THE PLOTS ONE ROW AND TWO COLUMNS FOR EACH SAMPLE, ALSO SETS THE SIZE OF EACH BOX\n",
    "    # Create a subplot with 1 row and 2 columns\n",
    "    fig, (ax1, ax2) = plt.subplots(1, 2)\n",
    "    fig.set_size_inches(14, 4)\n",
    "    \n",
    "\n",
    "# THE FIRST COLUMN BOX FOR EACH ROW(AX1) REPRESENTS THE GRAPH OF THE SILHOUETE COEFFICIENTS\n",
    "   # The 1st subplot is the silhouette plot\n",
    "    # The silhouette coefficient can range from -1, 1 but in this example all\n",
    "    # lie within [-0.1, 1]\n",
    "    ax1.set_xlim([-0.1, 1])\n",
    "    # The (n_clusters+1)*10 is for inserting blank space between silhouette\n",
    "    # plots of individual clusters, to demarcate them clearly.\n",
    "    ax1.set_ylim([0, len(X) + (n_clusters + 1) * 10])\n",
    "    \n",
    "    \n",
    "# IT FITS THE DATA AND PREDICT THE CENTROIDS/CLUSTERS \n",
    "    # Initialize the clusterer with n_clusters value and a random generator\n",
    "    # seed of 10 for reproducibility.\n",
    "    clusterer = KMeans(n_clusters=n_clusters, random_state=10)\n",
    "    cluster_labels = clusterer.fit_predict(clust_train)\n",
    "    \n",
    "# IT CALCULATES THE AVERAGE SCORES FOR EACH # OF CLUSTERS, THE CLOSER TO ONE THE BETTER FIT   \n",
    "    # The silhouette_score gives the average value for all the samples.\n",
    "    # This gives a perspective into the density and separation of the formed\n",
    "    # clusters\n",
    "    silhouette_avg = silhouette_score(clust_train, cluster_labels)\n",
    "    print(\"For n_clusters =\", n_clusters,\n",
    "          \"The average silhouette_score is :\", silhouette_avg)\n",
    "    \n",
    "    \n",
    "     # Compute the silhouette scores for each sample\n",
    "    sample_silhouette_values = silhouette_samples(clust_train, cluster_labels)\n",
    "    \n",
    "    \n",
    "    \n",
    "    y_lower = 10\n",
    "    for i in range(n_clusters):\n",
    "        # Aggregate the silhouette scores for samples belonging to\n",
    "        # cluster i, and sort them\n",
    "        ith_cluster_silhouette_values = \\\n",
    "            sample_silhouette_values[cluster_labels == i]\n",
    "\n",
    "        ith_cluster_silhouette_values.sort()\n",
    "\n",
    "        size_cluster_i = ith_cluster_silhouette_values.shape[0]\n",
    "        y_upper = y_lower + size_cluster_i\n",
    "\n",
    "        color = cm.spectral(float(i) / n_clusters)\n",
    "        ax1.fill_betweenx(np.arange(y_lower, y_upper),\n",
    "                          0, ith_cluster_silhouette_values,\n",
    "                          facecolor=color, edgecolor=color, alpha=0.7)\n",
    "\n",
    "        # Label the silhouette plots with their cluster numbers at the middle\n",
    "        ax1.text(-0.05, y_lower + 0.5 * size_cluster_i, str(i))\n",
    "\n",
    "        # Compute the new y_lower for next plot\n",
    "        y_lower = y_upper + 10  # 10 for the 0 samples\n",
    "\n",
    "    ax1.set_title(\"The silhouette plot for the various clusters.\")\n",
    "    ax1.set_xlabel(\"The silhouette coefficient values\")\n",
    "    ax1.set_ylabel(\"Cluster label\")\n",
    "\n",
    "    # The vertical line for average silhouette score of all the values\n",
    "    ax1.axvline(x=silhouette_avg, color=\"red\", linestyle=\"--\")\n",
    "\n",
    "    ax1.set_yticks([])  # Clear the yaxis labels / ticks\n",
    "    ax1.set_xticks([-0.1, 0, 0.2, 0.4, 0.6, 0.8, 1])\n",
    "\n",
    "    # 2nd Plot showing the actual clusters formed\n",
    "    colors = cm.spectral(cluster_labels.astype(float) / n_clusters)\n",
    "    ax2.scatter(X[:, 0], X[:, 1], marker='.', s=30, lw=0, alpha=0.7,\n",
    "                c=colors, edgecolor='k')\n",
    "\n",
    "    # Labeling the clusters\n",
    "    centers = clusterer.cluster_centers_\n",
    "    # Draw white circles at cluster centers\n",
    "    ax2.scatter(centers[:, 0], centers[:, 1], marker='o',\n",
    "                c=\"white\", alpha=1, s=200, edgecolor='k')\n",
    "\n",
    "    for i, c in enumerate(centers):\n",
    "        ax2.scatter(c[0], c[1], marker='$%d$' % i, alpha=1,\n",
    "                    s=50, edgecolor='k')\n",
    "\n",
    "    ax2.set_title(\"The visualization of the clustered data.\")\n",
    "    ax2.set_xlabel(\"Feature space for the 1st feature\")\n",
    "    ax2.set_ylabel(\"Feature space for the 2nd feature\")\n",
    "\n",
    "    plt.suptitle((\"Silhouette analysis for KMeans clustering on sample data \"\n",
    "                  \"with n_clusters = %d\" % n_clusters),\n",
    "                 fontsize=14, fontweight='bold')\n",
    "\n",
    "    plt.show()"
   ]
  },
  {
   "cell_type": "code",
   "execution_count": 24,
   "metadata": {},
   "outputs": [
    {
     "data": {
      "text/plain": [
       "KMeans(algorithm='auto', copy_x=True, init='k-means++', max_iter=300,\n",
       "    n_clusters=5, n_init=10, n_jobs=1, precompute_distances='auto',\n",
       "    random_state=None, tol=0.0001, verbose=0)"
      ]
     },
     "execution_count": 24,
     "metadata": {},
     "output_type": "execute_result"
    }
   ],
   "source": [
    "X = clust_train\n",
    "Kmean = KMeans(n_clusters=5)\n",
    "Kmean.fit(X)"
   ]
  },
  {
   "cell_type": "code",
   "execution_count": 25,
   "metadata": {},
   "outputs": [
    {
     "data": {
      "text/plain": [
       "64"
      ]
     },
     "execution_count": 25,
     "metadata": {},
     "output_type": "execute_result"
    }
   ],
   "source": [
    "pca_2 = PCA(2)\n",
    "\n",
    "plot_columns = pca_2.fit_transform(clust_train)\n",
    "len(plot_columns)"
   ]
  },
  {
   "cell_type": "code",
   "execution_count": 26,
   "metadata": {},
   "outputs": [
    {
     "data": {
      "text/plain": [
       "array([3, 0, 4, 1, 3, 0, 1, 3, 3, 1, 3, 3, 1, 3, 1, 3, 3, 0, 3, 3, 3, 3, 1,\n",
       "       1, 3, 4, 1, 3, 3, 1, 1, 1, 0, 1, 3, 3, 3, 3, 3, 0, 3, 4, 1, 1, 0, 2,\n",
       "       3, 1, 1, 3, 3, 3, 3, 3, 1, 2, 3, 3, 3, 1, 3, 3, 3, 0])"
      ]
     },
     "execution_count": 26,
     "metadata": {},
     "output_type": "execute_result"
    }
   ],
   "source": [
    "# Cluster/Target value given to each Individual point in dataset\n",
    "Kmean.labels_"
   ]
  },
  {
   "cell_type": "code",
   "execution_count": 27,
   "metadata": {},
   "outputs": [
    {
     "data": {
      "text/plain": [
       "array([[-0.5900059 , -0.73461112, -0.46655695, -0.41684031, -0.68905545,\n",
       "         2.40074803],\n",
       "       [ 0.21294916,  0.40127032,  0.42146967,  0.17666502,  1.18152174,\n",
       "        -0.28600736],\n",
       "       [-0.3283886 , -0.59961628,  4.0837936 ,  4.39334312,  0.84885509,\n",
       "         0.05520021],\n",
       "       [-0.25035884, -0.25031626, -0.48035517, -0.38064329, -0.65381395,\n",
       "        -0.29472215],\n",
       "       [ 3.9632548 ,  3.14869757,  0.32417689, -0.0271612 ,  1.71566   ,\n",
       "        -0.13164776]])"
      ]
     },
     "execution_count": 27,
     "metadata": {},
     "output_type": "execute_result"
    }
   ],
   "source": [
    "# Centroids cordinates\n",
    "Kmean.cluster_centers_"
   ]
  },
  {
   "cell_type": "code",
   "execution_count": 28,
   "metadata": {},
   "outputs": [
    {
     "data": {
      "image/png": "[encoded data removed]",
      "text/plain": [
       "<matplotlib.figure.Figure at 0x260c77654e0>"
      ]
     },
     "metadata": {},
     "output_type": "display_data"
    }
   ],
   "source": [
    "# plot columns\n",
    "plt.scatter(x=plot_columns[:,0], y=plot_columns[:,1], c=Kmean.labels_,)\n",
    "plt.xlabel('Canonical variable 1')\n",
    "plt.ylabel('Canonical variable 2')\n",
    "plt.title('Scatterplot of Canonical Variables for # of Clusters')\n",
    "plt.show()"
   ]
  },
  {
   "cell_type": "markdown",
   "metadata": {},
   "source": [
    "### Finding Clusters Values and Arrays"
   ]
  },
  {
   "cell_type": "code",
   "execution_count": 29,
   "metadata": {},
   "outputs": [],
   "source": [
    "# Identifying Potential Outlier in cluster\n",
    "def ClusterIndicesNumpy(clustNum, labels_array): #numpy \n",
    "    return np.where(labels_array == clustNum)[0]"
   ]
  },
  {
   "cell_type": "code",
   "execution_count": 30,
   "metadata": {},
   "outputs": [
    {
     "name": "stdout",
     "output_type": "stream",
     "text": [
      "1 array: \n",
      " [ 1  5 17 32 39 44 63] \n",
      "\n",
      "2 array: \n",
      " [ 3  6  9 12 14 22 23 26 29 30 31 33 42 43 47 48 54 59] \n",
      "\n",
      "3 array: \n",
      " [45 55] \n",
      "\n",
      "4 array: \n",
      " [ 0  4  7  8 10 11 13 15 16 18 19 20 21 24 27 28 34 35 36 37 38 40 46 49 50\n",
      " 51 52 53 56 57 58 60 61 62] \n",
      "\n",
      "5 array: \n",
      " [ 2 25 41] \n",
      "\n"
     ]
    }
   ],
   "source": [
    "print('1 array: \\n', ClusterIndicesNumpy(0, Kmean.labels_), '\\n')\n",
    "print('2 array: \\n', ClusterIndicesNumpy(1, Kmean.labels_), '\\n')\n",
    "print('3 array: \\n', ClusterIndicesNumpy(2, Kmean.labels_), '\\n')\n",
    "print('4 array: \\n', ClusterIndicesNumpy(3, Kmean.labels_), '\\n')\n",
    "print('5 array: \\n', ClusterIndicesNumpy(4, Kmean.labels_), '\\n')"
   ]
  }
 ],
 "metadata": {
  "kernelspec": {
   "display_name": "Python 3",
   "language": "python",
   "name": "python3"
  },
  "language_info": {
   "codemirror_mode": {
    "name": "ipython",
    "version": 3
   },
   "file_extension": ".py",
   "mimetype": "text/x-python",
   "name": "python",
   "nbconvert_exporter": "python",
   "pygments_lexer": "ipython3",
   "version": "3.5.4"
  }
 },
 "nbformat": 4,
 "nbformat_minor": 2
}
