{
 "cells": [
  {
   "cell_type": "code",
   "execution_count": 17,
   "metadata": {},
   "outputs": [],
   "source": [
    "import pandas as pd\n",
    "import numpy as np\n",
    "import datetime\n",
    "import quandl\n",
    "import config\n",
    "import matplotlib.pyplot as plt\n",
    "%matplotlib inline\n",
    "\n",
    "\n",
    "from sklearn import preprocessing\n",
    "from sklearn.model_selection import train_test_split\n",
    "from sklearn.cluster import KMeans\n",
    "\n",
    "# settings to observe x amount of rows in dataframe\n",
    "pd.set_option('max_rows', 500)\n",
    "pd.set_option('max_columns', 1000)\n",
    "\n",
    "# API Key\n",
    "key = quandl.ApiConfig.api_key"
   ]
  },
  {
   "cell_type": "markdown",
   "metadata": {},
   "source": [
    "### OPENS FILES"
   ]
  },
  {
   "cell_type": "code",
   "execution_count": 2,
   "metadata": {},
   "outputs": [
    {
     "data": {
      "text/html": [
       "<div>\n",
       "<style scoped>\n",
       "    .dataframe tbody tr th:only-of-type {\n",
       "        vertical-align: middle;\n",
       "    }\n",
       "\n",
       "    .dataframe tbody tr th {\n",
       "        vertical-align: top;\n",
       "    }\n",
       "\n",
       "    .dataframe thead th {\n",
       "        text-align: right;\n",
       "    }\n",
       "</style>\n",
       "<table border=\"1\" class=\"dataframe\">\n",
       "  <thead>\n",
       "    <tr style=\"text-align: right;\">\n",
       "      <th></th>\n",
       "      <th>Symbol</th>\n",
       "      <th>Name</th>\n",
       "      <th>LastSale</th>\n",
       "      <th>MarketCap</th>\n",
       "      <th>ADR TSO</th>\n",
       "      <th>IPOyear</th>\n",
       "      <th>Sector</th>\n",
       "      <th>Industry</th>\n",
       "      <th>Summary Quote</th>\n",
       "      <th>Unnamed: 9</th>\n",
       "    </tr>\n",
       "  </thead>\n",
       "  <tbody>\n",
       "    <tr>\n",
       "      <th>0</th>\n",
       "      <td>DDD</td>\n",
       "      <td>3D Systems Corporation</td>\n",
       "      <td>9.15</td>\n",
       "      <td>1.041840e+09</td>\n",
       "      <td>NaN</td>\n",
       "      <td>NaN</td>\n",
       "      <td>Technology</td>\n",
       "      <td>Computer Software: Prepackaged Software</td>\n",
       "      <td>http://www.nasdaq.com/symbol/ddd</td>\n",
       "      <td>NaN</td>\n",
       "    </tr>\n",
       "  </tbody>\n",
       "</table>\n",
       "</div>"
      ],
      "text/plain": [
       "  Symbol                    Name  LastSale     MarketCap  ADR TSO  IPOyear  \\\n",
       "0    DDD  3D Systems Corporation      9.15  1.041840e+09      NaN      NaN   \n",
       "\n",
       "       Sector                                 Industry  \\\n",
       "0  Technology  Computer Software: Prepackaged Software   \n",
       "\n",
       "                      Summary Quote  Unnamed: 9  \n",
       "0  http://www.nasdaq.com/symbol/ddd         NaN  "
      ]
     },
     "execution_count": 2,
     "metadata": {},
     "output_type": "execute_result"
    }
   ],
   "source": [
    "# North America Publicly Traded Companies\n",
    "companies_data = pd.read_csv('/Users/Alfredo/Desktop/clustering-stocks/n_a_companylist.csv')\n",
    "companies_data.head(1)"
   ]
  },
  {
   "cell_type": "code",
   "execution_count": 3,
   "metadata": {},
   "outputs": [
    {
     "data": {
      "text/plain": [
       "(2457, 10)"
      ]
     },
     "execution_count": 3,
     "metadata": {},
     "output_type": "execute_result"
    }
   ],
   "source": [
    "companies_data.shape"
   ]
  },
  {
   "cell_type": "code",
   "execution_count": 4,
   "metadata": {},
   "outputs": [
    {
     "data": {
      "text/html": [
       "<div>\n",
       "<style scoped>\n",
       "    .dataframe tbody tr th:only-of-type {\n",
       "        vertical-align: middle;\n",
       "    }\n",
       "\n",
       "    .dataframe tbody tr th {\n",
       "        vertical-align: top;\n",
       "    }\n",
       "\n",
       "    .dataframe thead th {\n",
       "        text-align: right;\n",
       "    }\n",
       "</style>\n",
       "<table border=\"1\" class=\"dataframe\">\n",
       "  <thead>\n",
       "    <tr style=\"text-align: right;\">\n",
       "      <th></th>\n",
       "      <th>Ticker</th>\n",
       "      <th>Description</th>\n",
       "    </tr>\n",
       "  </thead>\n",
       "  <tbody>\n",
       "    <tr>\n",
       "      <th>0</th>\n",
       "      <td>WIKI/AAPL</td>\n",
       "      <td>Apple Inc (AAPL) Prices, Dividends, Splits and...</td>\n",
       "    </tr>\n",
       "  </tbody>\n",
       "</table>\n",
       "</div>"
      ],
      "text/plain": [
       "      Ticker                                        Description\n",
       "0  WIKI/AAPL  Apple Inc (AAPL) Prices, Dividends, Splits and..."
      ]
     },
     "execution_count": 4,
     "metadata": {},
     "output_type": "execute_result"
    }
   ],
   "source": [
    "# Quandl Available Companies\n",
    "tickers_data = pd.read_csv('/Users/Alfredo/Desktop/clustering-stocks/WIKI-datasets-codes.csv', header=-1)\n",
    "tickers_data.columns = ['Ticker', 'Description']\n",
    "tickers_data.head(1)"
   ]
  },
  {
   "cell_type": "code",
   "execution_count": 5,
   "metadata": {},
   "outputs": [
    {
     "data": {
      "text/plain": [
       "(3196, 2)"
      ]
     },
     "execution_count": 5,
     "metadata": {},
     "output_type": "execute_result"
    }
   ],
   "source": [
    "tickers_data.shape"
   ]
  },
  {
   "cell_type": "markdown",
   "metadata": {},
   "source": [
    "## Filters and Macthes to available companies in both files"
   ]
  },
  {
   "cell_type": "code",
   "execution_count": 6,
   "metadata": {},
   "outputs": [
    {
     "data": {
      "text/html": [
       "<div>\n",
       "<style scoped>\n",
       "    .dataframe tbody tr th:only-of-type {\n",
       "        vertical-align: middle;\n",
       "    }\n",
       "\n",
       "    .dataframe tbody tr th {\n",
       "        vertical-align: top;\n",
       "    }\n",
       "\n",
       "    .dataframe thead th {\n",
       "        text-align: right;\n",
       "    }\n",
       "</style>\n",
       "<table border=\"1\" class=\"dataframe\">\n",
       "  <thead>\n",
       "    <tr style=\"text-align: right;\">\n",
       "      <th></th>\n",
       "      <th>Symbol</th>\n",
       "      <th>Name</th>\n",
       "      <th>LastSale</th>\n",
       "      <th>MarketCap</th>\n",
       "      <th>ADR TSO</th>\n",
       "      <th>IPOyear</th>\n",
       "      <th>Sector</th>\n",
       "      <th>Industry</th>\n",
       "      <th>Summary Quote</th>\n",
       "      <th>Unnamed: 9</th>\n",
       "    </tr>\n",
       "  </thead>\n",
       "  <tbody>\n",
       "    <tr>\n",
       "      <th>0</th>\n",
       "      <td>WIKI/DDD</td>\n",
       "      <td>3D Systems Corporation</td>\n",
       "      <td>9.15</td>\n",
       "      <td>1.041840e+09</td>\n",
       "      <td>NaN</td>\n",
       "      <td>NaN</td>\n",
       "      <td>Technology</td>\n",
       "      <td>Computer Software: Prepackaged Software</td>\n",
       "      <td>http://www.nasdaq.com/symbol/ddd</td>\n",
       "      <td>NaN</td>\n",
       "    </tr>\n",
       "  </tbody>\n",
       "</table>\n",
       "</div>"
      ],
      "text/plain": [
       "     Symbol                    Name  LastSale     MarketCap  ADR TSO  IPOyear  \\\n",
       "0  WIKI/DDD  3D Systems Corporation      9.15  1.041840e+09      NaN      NaN   \n",
       "\n",
       "       Sector                                 Industry  \\\n",
       "0  Technology  Computer Software: Prepackaged Software   \n",
       "\n",
       "                      Summary Quote  Unnamed: 9  \n",
       "0  http://www.nasdaq.com/symbol/ddd         NaN  "
      ]
     },
     "execution_count": 6,
     "metadata": {},
     "output_type": "execute_result"
    }
   ],
   "source": [
    "# AddS WIKI/ to Symbol FeatureS\n",
    "companies_data['Symbol'] = 'WIKI/' + companies_data['Symbol'].astype(str)\n",
    "\n",
    "# Gives all North America Publicly Traded Companies available through Quandl codes\n",
    "tickers_data = companies_data.loc[companies_data['Symbol'].isin(tickers_data.Ticker)]\n",
    "tickers_data.head(1)"
   ]
  },
  {
   "cell_type": "code",
   "execution_count": 7,
   "metadata": {},
   "outputs": [
    {
     "data": {
      "text/plain": [
       "(1135, 10)"
      ]
     },
     "execution_count": 7,
     "metadata": {},
     "output_type": "execute_result"
    }
   ],
   "source": [
    "tickers_data.shape"
   ]
  },
  {
   "cell_type": "markdown",
   "metadata": {},
   "source": [
    "### Builds Feature(Yrs_Publ_Trded)"
   ]
  },
  {
   "cell_type": "code",
   "execution_count": 8,
   "metadata": {},
   "outputs": [
    {
     "data": {
      "text/html": [
       "<div>\n",
       "<style scoped>\n",
       "    .dataframe tbody tr th:only-of-type {\n",
       "        vertical-align: middle;\n",
       "    }\n",
       "\n",
       "    .dataframe tbody tr th {\n",
       "        vertical-align: top;\n",
       "    }\n",
       "\n",
       "    .dataframe thead th {\n",
       "        text-align: right;\n",
       "    }\n",
       "</style>\n",
       "<table border=\"1\" class=\"dataframe\">\n",
       "  <thead>\n",
       "    <tr style=\"text-align: right;\">\n",
       "      <th></th>\n",
       "      <th>Date</th>\n",
       "      <th>Symbol</th>\n",
       "      <th>Open</th>\n",
       "      <th>High</th>\n",
       "      <th>Low</th>\n",
       "      <th>Close</th>\n",
       "      <th>Volume</th>\n",
       "      <th>Ex-Dividend</th>\n",
       "      <th>Split Ratio</th>\n",
       "      <th>Adj. Open</th>\n",
       "      <th>Adj. High</th>\n",
       "      <th>Adj. Low</th>\n",
       "      <th>Adj. Close</th>\n",
       "      <th>Adj. Volume</th>\n",
       "      <th>Name</th>\n",
       "      <th>LastSale</th>\n",
       "      <th>MarketCap</th>\n",
       "      <th>ADR TSO</th>\n",
       "      <th>IPOyear</th>\n",
       "      <th>Sector</th>\n",
       "      <th>Industry</th>\n",
       "      <th>Summary Quote</th>\n",
       "      <th>Unnamed: 9</th>\n",
       "      <th>Yrs_Publ_Trded</th>\n",
       "    </tr>\n",
       "  </thead>\n",
       "  <tbody>\n",
       "    <tr>\n",
       "      <th>0</th>\n",
       "      <td>1990-11-05</td>\n",
       "      <td>DDD</td>\n",
       "      <td>3.88</td>\n",
       "      <td>4.25</td>\n",
       "      <td>3.25</td>\n",
       "      <td>4.25</td>\n",
       "      <td>34800.0</td>\n",
       "      <td>0.0</td>\n",
       "      <td>1.0</td>\n",
       "      <td>3.88</td>\n",
       "      <td>4.25</td>\n",
       "      <td>3.25</td>\n",
       "      <td>4.25</td>\n",
       "      <td>34800.0</td>\n",
       "      <td>3D Systems Corporation</td>\n",
       "      <td>9.15</td>\n",
       "      <td>1.041840e+09</td>\n",
       "      <td>NaN</td>\n",
       "      <td>NaN</td>\n",
       "      <td>Technology</td>\n",
       "      <td>Computer Software: Prepackaged Software</td>\n",
       "      <td>http://www.nasdaq.com/symbol/ddd</td>\n",
       "      <td>NaN</td>\n",
       "      <td>27</td>\n",
       "    </tr>\n",
       "    <tr>\n",
       "      <th>1</th>\n",
       "      <td>1990-11-06</td>\n",
       "      <td>DDD</td>\n",
       "      <td>3.50</td>\n",
       "      <td>4.25</td>\n",
       "      <td>3.50</td>\n",
       "      <td>3.62</td>\n",
       "      <td>21600.0</td>\n",
       "      <td>0.0</td>\n",
       "      <td>1.0</td>\n",
       "      <td>3.50</td>\n",
       "      <td>4.25</td>\n",
       "      <td>3.50</td>\n",
       "      <td>3.62</td>\n",
       "      <td>21600.0</td>\n",
       "      <td>3D Systems Corporation</td>\n",
       "      <td>9.15</td>\n",
       "      <td>1.041840e+09</td>\n",
       "      <td>NaN</td>\n",
       "      <td>NaN</td>\n",
       "      <td>Technology</td>\n",
       "      <td>Computer Software: Prepackaged Software</td>\n",
       "      <td>http://www.nasdaq.com/symbol/ddd</td>\n",
       "      <td>NaN</td>\n",
       "      <td>27</td>\n",
       "    </tr>\n",
       "  </tbody>\n",
       "</table>\n",
       "</div>"
      ],
      "text/plain": [
       "        Date Symbol  Open  High   Low  Close   Volume  Ex-Dividend  \\\n",
       "0 1990-11-05    DDD  3.88  4.25  3.25   4.25  34800.0          0.0   \n",
       "1 1990-11-06    DDD  3.50  4.25  3.50   3.62  21600.0          0.0   \n",
       "\n",
       "   Split Ratio  Adj. Open  Adj. High  Adj. Low  Adj. Close  Adj. Volume  \\\n",
       "0          1.0       3.88       4.25      3.25        4.25      34800.0   \n",
       "1          1.0       3.50       4.25      3.50        3.62      21600.0   \n",
       "\n",
       "                     Name  LastSale     MarketCap  ADR TSO  IPOyear  \\\n",
       "0  3D Systems Corporation      9.15  1.041840e+09      NaN      NaN   \n",
       "1  3D Systems Corporation      9.15  1.041840e+09      NaN      NaN   \n",
       "\n",
       "       Sector                                 Industry  \\\n",
       "0  Technology  Computer Software: Prepackaged Software   \n",
       "1  Technology  Computer Software: Prepackaged Software   \n",
       "\n",
       "                      Summary Quote  Unnamed: 9 Yrs_Publ_Trded  \n",
       "0  http://www.nasdaq.com/symbol/ddd         NaN             27  \n",
       "1  http://www.nasdaq.com/symbol/ddd         NaN             27  "
      ]
     },
     "execution_count": 8,
     "metadata": {},
     "output_type": "execute_result"
    }
   ],
   "source": [
    "tickers = tickers_data.Symbol[:200].tolist()\n",
    "symbols = []\n",
    "\n",
    "for sym in tickers:\n",
    "    \n",
    "    start = \"\"\n",
    "    end = \"\"   \n",
    "    mydata = quandl.get(sym, start_date=start, end_date=end, api_key = key)\n",
    "    mydata['Symbol'] = sym\n",
    "    symbols.append(mydata)\n",
    "       \n",
    "# attach tickers tables\n",
    "mydata = pd.concat(symbols)\n",
    "\n",
    "# index 'Date' to column\n",
    "mydata.reset_index(inplace=True)\n",
    "\n",
    "# Change location of column 'Symbol'\n",
    "symb = mydata['Symbol']\n",
    "mydata.drop(labels=['Symbol'], axis=1,inplace = True)\n",
    "mydata.insert(1, 'Symbol', symb)\n",
    "\n",
    "#Merges tickers data features\n",
    "mydata = mydata.merge(tickers_data)\n",
    "mydata.head(1)\n",
    "#mydata.head(1)\n",
    "#----------------\n",
    "# Finds the number of years each company has been publicly traded\n",
    "df_years = mydata.set_index('Symbol')\n",
    "\n",
    "min_data = df_years.groupby('Symbol')['Date'].min() \n",
    "max_data = df_years.groupby('Symbol')['Date'].max()\n",
    "new_df = (max_data - min_data).to_frame() / 365.25\n",
    "#new_df.head()\n",
    "new_df['Date'] = new_df['Date'].map(lambda x: str(x)[:-21])\n",
    "new_df = new_df.rename(index=str, columns={\"Date\":\"Yrs_Publ_Trded\"}).reset_index()\n",
    "#new_df\n",
    "\n",
    "mydata_yrs = mydata.merge(new_df)\n",
    "mydata_yrs = mydata_yrs.groupby(['Symbol','Yrs_Publ_Trded']).size().to_frame().reset_index()\n",
    "mydata_yrs = mydata_yrs.drop(mydata_yrs.columns[2],axis=1)\n",
    "\n",
    "\n",
    "data1 = mydata.merge(mydata_yrs)\n",
    "#data1.head(1)\n",
    "\n",
    "# Slices WIKI out of symbol column for tickers\n",
    "data1['Symbol'] = data1['Symbol'].map(lambda x: str(x)[5:])\n",
    "data1.head(2)"
   ]
  },
  {
   "cell_type": "markdown",
   "metadata": {},
   "source": [
    "## Filters historical prices for year given(2016)"
   ]
  },
  {
   "cell_type": "code",
   "execution_count": 9,
   "metadata": {},
   "outputs": [
    {
     "data": {
      "text/html": [
       "<div>\n",
       "<style scoped>\n",
       "    .dataframe tbody tr th:only-of-type {\n",
       "        vertical-align: middle;\n",
       "    }\n",
       "\n",
       "    .dataframe tbody tr th {\n",
       "        vertical-align: top;\n",
       "    }\n",
       "\n",
       "    .dataframe thead th {\n",
       "        text-align: right;\n",
       "    }\n",
       "</style>\n",
       "<table border=\"1\" class=\"dataframe\">\n",
       "  <thead>\n",
       "    <tr style=\"text-align: right;\">\n",
       "      <th></th>\n",
       "      <th>Date</th>\n",
       "      <th>Symbol</th>\n",
       "      <th>Open</th>\n",
       "      <th>High</th>\n",
       "      <th>Low</th>\n",
       "      <th>Close</th>\n",
       "      <th>Volume</th>\n",
       "      <th>Ex-Dividend</th>\n",
       "      <th>Split Ratio</th>\n",
       "      <th>Adj. Open</th>\n",
       "      <th>Adj. High</th>\n",
       "      <th>Adj. Low</th>\n",
       "      <th>Adj. Close</th>\n",
       "      <th>Adj. Volume</th>\n",
       "      <th>Name</th>\n",
       "      <th>LastSale</th>\n",
       "      <th>MarketCap</th>\n",
       "      <th>ADR TSO</th>\n",
       "      <th>IPOyear</th>\n",
       "      <th>Sector</th>\n",
       "      <th>Industry</th>\n",
       "      <th>Summary Quote</th>\n",
       "      <th>Unnamed: 9</th>\n",
       "      <th>Yrs_Publ_Trded</th>\n",
       "    </tr>\n",
       "  </thead>\n",
       "  <tbody>\n",
       "    <tr>\n",
       "      <th>0</th>\n",
       "      <td>2016-01-04</td>\n",
       "      <td>DDD</td>\n",
       "      <td>8.47</td>\n",
       "      <td>10.15</td>\n",
       "      <td>8.46</td>\n",
       "      <td>9.83</td>\n",
       "      <td>7612842.0</td>\n",
       "      <td>0.0</td>\n",
       "      <td>1.0</td>\n",
       "      <td>8.47</td>\n",
       "      <td>10.15</td>\n",
       "      <td>8.46</td>\n",
       "      <td>9.83</td>\n",
       "      <td>7612842.0</td>\n",
       "      <td>3D Systems Corporation</td>\n",
       "      <td>9.15</td>\n",
       "      <td>1.041840e+09</td>\n",
       "      <td>NaN</td>\n",
       "      <td>NaN</td>\n",
       "      <td>Technology</td>\n",
       "      <td>Computer Software: Prepackaged Software</td>\n",
       "      <td>http://www.nasdaq.com/symbol/ddd</td>\n",
       "      <td>NaN</td>\n",
       "      <td>27</td>\n",
       "    </tr>\n",
       "    <tr>\n",
       "      <th>1</th>\n",
       "      <td>2016-01-05</td>\n",
       "      <td>DDD</td>\n",
       "      <td>9.83</td>\n",
       "      <td>10.24</td>\n",
       "      <td>9.29</td>\n",
       "      <td>9.69</td>\n",
       "      <td>4911636.0</td>\n",
       "      <td>0.0</td>\n",
       "      <td>1.0</td>\n",
       "      <td>9.83</td>\n",
       "      <td>10.24</td>\n",
       "      <td>9.29</td>\n",
       "      <td>9.69</td>\n",
       "      <td>4911636.0</td>\n",
       "      <td>3D Systems Corporation</td>\n",
       "      <td>9.15</td>\n",
       "      <td>1.041840e+09</td>\n",
       "      <td>NaN</td>\n",
       "      <td>NaN</td>\n",
       "      <td>Technology</td>\n",
       "      <td>Computer Software: Prepackaged Software</td>\n",
       "      <td>http://www.nasdaq.com/symbol/ddd</td>\n",
       "      <td>NaN</td>\n",
       "      <td>27</td>\n",
       "    </tr>\n",
       "    <tr>\n",
       "      <th>2</th>\n",
       "      <td>2016-01-06</td>\n",
       "      <td>DDD</td>\n",
       "      <td>9.48</td>\n",
       "      <td>9.55</td>\n",
       "      <td>8.99</td>\n",
       "      <td>9.10</td>\n",
       "      <td>3290163.0</td>\n",
       "      <td>0.0</td>\n",
       "      <td>1.0</td>\n",
       "      <td>9.48</td>\n",
       "      <td>9.55</td>\n",
       "      <td>8.99</td>\n",
       "      <td>9.10</td>\n",
       "      <td>3290163.0</td>\n",
       "      <td>3D Systems Corporation</td>\n",
       "      <td>9.15</td>\n",
       "      <td>1.041840e+09</td>\n",
       "      <td>NaN</td>\n",
       "      <td>NaN</td>\n",
       "      <td>Technology</td>\n",
       "      <td>Computer Software: Prepackaged Software</td>\n",
       "      <td>http://www.nasdaq.com/symbol/ddd</td>\n",
       "      <td>NaN</td>\n",
       "      <td>27</td>\n",
       "    </tr>\n",
       "  </tbody>\n",
       "</table>\n",
       "</div>"
      ],
      "text/plain": [
       "        Date Symbol  Open   High   Low  Close     Volume  Ex-Dividend  \\\n",
       "0 2016-01-04    DDD  8.47  10.15  8.46   9.83  7612842.0          0.0   \n",
       "1 2016-01-05    DDD  9.83  10.24  9.29   9.69  4911636.0          0.0   \n",
       "2 2016-01-06    DDD  9.48   9.55  8.99   9.10  3290163.0          0.0   \n",
       "\n",
       "   Split Ratio  Adj. Open  Adj. High  Adj. Low  Adj. Close  Adj. Volume  \\\n",
       "0          1.0       8.47      10.15      8.46        9.83    7612842.0   \n",
       "1          1.0       9.83      10.24      9.29        9.69    4911636.0   \n",
       "2          1.0       9.48       9.55      8.99        9.10    3290163.0   \n",
       "\n",
       "                     Name  LastSale     MarketCap  ADR TSO  IPOyear  \\\n",
       "0  3D Systems Corporation      9.15  1.041840e+09      NaN      NaN   \n",
       "1  3D Systems Corporation      9.15  1.041840e+09      NaN      NaN   \n",
       "2  3D Systems Corporation      9.15  1.041840e+09      NaN      NaN   \n",
       "\n",
       "       Sector                                 Industry  \\\n",
       "0  Technology  Computer Software: Prepackaged Software   \n",
       "1  Technology  Computer Software: Prepackaged Software   \n",
       "2  Technology  Computer Software: Prepackaged Software   \n",
       "\n",
       "                      Summary Quote  Unnamed: 9 Yrs_Publ_Trded  \n",
       "0  http://www.nasdaq.com/symbol/ddd         NaN             27  \n",
       "1  http://www.nasdaq.com/symbol/ddd         NaN             27  \n",
       "2  http://www.nasdaq.com/symbol/ddd         NaN             27  "
      ]
     },
     "execution_count": 9,
     "metadata": {},
     "output_type": "execute_result"
    }
   ],
   "source": [
    "#LOOPS THROUGH TICKERS FOR 2016 DAILY RECORDS\n",
    "symbols = []\n",
    "\n",
    "for sym in tickers:\n",
    "    \n",
    "    start = \"2016-01-01\"\n",
    "    end = \"2016-12-12\"\n",
    "    \n",
    "    mydata_2016 = quandl.get(sym, start_date=start, end_date=end, api_key = key)\n",
    "    mydata_2016['Symbol'] = sym\n",
    "    symbols.append(mydata_2016)\n",
    "    \n",
    "    \n",
    "# attach tickers tables\n",
    "mydata_2016 = pd.concat(symbols)\n",
    "\n",
    "# index 'Date' to column\n",
    "mydata_2016.reset_index(inplace=True)\n",
    "\n",
    "# Change location of column 'Symbol'\n",
    "symb = mydata_2016['Symbol']\n",
    "mydata_2016.drop(labels=['Symbol'], axis=1,inplace = True)\n",
    "mydata_2016.insert(1, 'Symbol', symb)\n",
    "#mydata_2016.head(1)\n",
    "\n",
    "mydata_2016['Symbol'] = mydata_2016['Symbol'].map(lambda x: str(x)[5:])\n",
    "#mydata_2016.head(3)\n",
    "\n",
    "# Merge year features/keeps 2016 prices\n",
    "data2 = mydata_2016.merge(data1)\n",
    "data2.head(3)"
   ]
  },
  {
   "cell_type": "code",
   "execution_count": 10,
   "metadata": {},
   "outputs": [
    {
     "data": {
      "text/html": [
       "<div>\n",
       "<style scoped>\n",
       "    .dataframe tbody tr th:only-of-type {\n",
       "        vertical-align: middle;\n",
       "    }\n",
       "\n",
       "    .dataframe tbody tr th {\n",
       "        vertical-align: top;\n",
       "    }\n",
       "\n",
       "    .dataframe thead th {\n",
       "        text-align: right;\n",
       "    }\n",
       "</style>\n",
       "<table border=\"1\" class=\"dataframe\">\n",
       "  <thead>\n",
       "    <tr style=\"text-align: right;\">\n",
       "      <th></th>\n",
       "      <th></th>\n",
       "      <th>Open</th>\n",
       "      <th>High</th>\n",
       "      <th>Low</th>\n",
       "      <th>Close</th>\n",
       "      <th>Volume</th>\n",
       "      <th>Ex-Dividend</th>\n",
       "      <th>Split Ratio</th>\n",
       "      <th>Adj. Open</th>\n",
       "      <th>Adj. High</th>\n",
       "      <th>Adj. Low</th>\n",
       "      <th>Adj. Close</th>\n",
       "      <th>Adj. Volume</th>\n",
       "      <th>MarketCap</th>\n",
       "      <th>Sector</th>\n",
       "      <th>Industry</th>\n",
       "      <th>Yrs_Publ_Trded</th>\n",
       "    </tr>\n",
       "    <tr>\n",
       "      <th>Symbol</th>\n",
       "      <th>Date</th>\n",
       "      <th></th>\n",
       "      <th></th>\n",
       "      <th></th>\n",
       "      <th></th>\n",
       "      <th></th>\n",
       "      <th></th>\n",
       "      <th></th>\n",
       "      <th></th>\n",
       "      <th></th>\n",
       "      <th></th>\n",
       "      <th></th>\n",
       "      <th></th>\n",
       "      <th></th>\n",
       "      <th></th>\n",
       "      <th></th>\n",
       "      <th></th>\n",
       "    </tr>\n",
       "  </thead>\n",
       "  <tbody>\n",
       "    <tr>\n",
       "      <th>A</th>\n",
       "      <th>2016-01-04</th>\n",
       "      <td>41.06</td>\n",
       "      <td>41.19</td>\n",
       "      <td>40.34</td>\n",
       "      <td>40.69</td>\n",
       "      <td>3287335.0</td>\n",
       "      <td>0.0</td>\n",
       "      <td>1.0</td>\n",
       "      <td>40.346337</td>\n",
       "      <td>40.474077</td>\n",
       "      <td>39.638851</td>\n",
       "      <td>39.982768</td>\n",
       "      <td>3287335.0</td>\n",
       "      <td>21722962316</td>\n",
       "      <td>Capital Goods</td>\n",
       "      <td>Biotechnology: Laboratory Analytical Instruments</td>\n",
       "      <td>18</td>\n",
       "    </tr>\n",
       "  </tbody>\n",
       "</table>\n",
       "</div>"
      ],
      "text/plain": [
       "                    Open   High    Low  Close     Volume  Ex-Dividend  \\\n",
       "Symbol Date                                                             \n",
       "A      2016-01-04  41.06  41.19  40.34  40.69  3287335.0          0.0   \n",
       "\n",
       "                   Split Ratio  Adj. Open  Adj. High   Adj. Low  Adj. Close  \\\n",
       "Symbol Date                                                                   \n",
       "A      2016-01-04          1.0  40.346337  40.474077  39.638851   39.982768   \n",
       "\n",
       "                   Adj. Volume    MarketCap         Sector  \\\n",
       "Symbol Date                                                  \n",
       "A      2016-01-04    3287335.0  21722962316  Capital Goods   \n",
       "\n",
       "                                                           Industry  \\\n",
       "Symbol Date                                                           \n",
       "A      2016-01-04  Biotechnology: Laboratory Analytical Instruments   \n",
       "\n",
       "                  Yrs_Publ_Trded  \n",
       "Symbol Date                       \n",
       "A      2016-01-04             18  "
      ]
     },
     "execution_count": 10,
     "metadata": {},
     "output_type": "execute_result"
    }
   ],
   "source": [
    "data = data2.drop(['Name','LastSale','ADR TSO','IPOyear','Summary Quote','Unnamed: 9'], axis=1)\n",
    "#data.head(1)\n",
    "\n",
    "# Changes MarketCap feature from scientific notation to integer value\n",
    "data['MarketCap'] = data['MarketCap'].apply(lambda x: '%.f' % x)\n",
    "#data.head()\n",
    "\n",
    "# resetting indexes\n",
    "mydata = data.set_index(['Date','Symbol']).unstack(0).stack(dropna=False).groupby(level='Symbol').ffill().bfill()\n",
    "mydata.head(1)"
   ]
  },
  {
   "cell_type": "code",
   "execution_count": 11,
   "metadata": {},
   "outputs": [
    {
     "data": {
      "text/html": [
       "<div>\n",
       "<style scoped>\n",
       "    .dataframe tbody tr th:only-of-type {\n",
       "        vertical-align: middle;\n",
       "    }\n",
       "\n",
       "    .dataframe tbody tr th {\n",
       "        vertical-align: top;\n",
       "    }\n",
       "\n",
       "    .dataframe thead th {\n",
       "        text-align: right;\n",
       "    }\n",
       "</style>\n",
       "<table border=\"1\" class=\"dataframe\">\n",
       "  <thead>\n",
       "    <tr style=\"text-align: right;\">\n",
       "      <th></th>\n",
       "      <th></th>\n",
       "      <th>Volume</th>\n",
       "      <th>Ex-Dividend</th>\n",
       "      <th>Adj. Close</th>\n",
       "      <th>MarketCap</th>\n",
       "      <th>Yrs_Publ_Trded</th>\n",
       "    </tr>\n",
       "    <tr>\n",
       "      <th>Symbol</th>\n",
       "      <th>Date</th>\n",
       "      <th></th>\n",
       "      <th></th>\n",
       "      <th></th>\n",
       "      <th></th>\n",
       "      <th></th>\n",
       "    </tr>\n",
       "  </thead>\n",
       "  <tbody>\n",
       "    <tr>\n",
       "      <th>A</th>\n",
       "      <th>2016-01-04</th>\n",
       "      <td>3287335.0</td>\n",
       "      <td>0.0</td>\n",
       "      <td>39.982768</td>\n",
       "      <td>21722962316</td>\n",
       "      <td>18</td>\n",
       "    </tr>\n",
       "  </tbody>\n",
       "</table>\n",
       "</div>"
      ],
      "text/plain": [
       "                      Volume  Ex-Dividend  Adj. Close    MarketCap  \\\n",
       "Symbol Date                                                          \n",
       "A      2016-01-04  3287335.0          0.0   39.982768  21722962316   \n",
       "\n",
       "                  Yrs_Publ_Trded  \n",
       "Symbol Date                       \n",
       "A      2016-01-04             18  "
      ]
     },
     "execution_count": 11,
     "metadata": {},
     "output_type": "execute_result"
    }
   ],
   "source": [
    "mydata = mydata.drop(['Open','High','Low','Close','Split Ratio',\n",
    "       'Adj. Open', 'Adj. High', 'Adj. Low', 'Adj. Volume','Sector','Industry'], axis=1)\n",
    "mydata.head(1)"
   ]
  },
  {
   "cell_type": "code",
   "execution_count": 12,
   "metadata": {},
   "outputs": [
    {
     "data": {
      "text/html": [
       "<div>\n",
       "<style scoped>\n",
       "    .dataframe tbody tr th:only-of-type {\n",
       "        vertical-align: middle;\n",
       "    }\n",
       "\n",
       "    .dataframe tbody tr th {\n",
       "        vertical-align: top;\n",
       "    }\n",
       "\n",
       "    .dataframe thead th {\n",
       "        text-align: right;\n",
       "    }\n",
       "</style>\n",
       "<table border=\"1\" class=\"dataframe\">\n",
       "  <thead>\n",
       "    <tr style=\"text-align: right;\">\n",
       "      <th></th>\n",
       "      <th></th>\n",
       "      <th>Volume</th>\n",
       "      <th>Ex-Dividend</th>\n",
       "      <th>Adj. Close</th>\n",
       "      <th>MarketCap</th>\n",
       "      <th>Yrs_Publ_Trded</th>\n",
       "      <th>Avg_Vol_Trader</th>\n",
       "      <th>Daily_Return</th>\n",
       "      <th>Avg_Daily_Return</th>\n",
       "      <th>Std_Daily_Return</th>\n",
       "      <th>Daily_Sharpe_Ratio</th>\n",
       "      <th>Total_Dividend</th>\n",
       "    </tr>\n",
       "    <tr>\n",
       "      <th>Symbol</th>\n",
       "      <th>Date</th>\n",
       "      <th></th>\n",
       "      <th></th>\n",
       "      <th></th>\n",
       "      <th></th>\n",
       "      <th></th>\n",
       "      <th></th>\n",
       "      <th></th>\n",
       "      <th></th>\n",
       "      <th></th>\n",
       "      <th></th>\n",
       "      <th></th>\n",
       "    </tr>\n",
       "  </thead>\n",
       "  <tbody>\n",
       "    <tr>\n",
       "      <th>A</th>\n",
       "      <th>2016-01-04</th>\n",
       "      <td>3287335.0</td>\n",
       "      <td>0.0</td>\n",
       "      <td>39.982768</td>\n",
       "      <td>21722962316</td>\n",
       "      <td>18</td>\n",
       "      <td>2121030</td>\n",
       "      <td>NaN</td>\n",
       "      <td>0.000674</td>\n",
       "      <td>0.014962</td>\n",
       "      <td>0.045027</td>\n",
       "      <td>0.345</td>\n",
       "    </tr>\n",
       "  </tbody>\n",
       "</table>\n",
       "</div>"
      ],
      "text/plain": [
       "                      Volume  Ex-Dividend  Adj. Close    MarketCap  \\\n",
       "Symbol Date                                                          \n",
       "A      2016-01-04  3287335.0          0.0   39.982768  21722962316   \n",
       "\n",
       "                  Yrs_Publ_Trded Avg_Vol_Trader  Daily_Return  \\\n",
       "Symbol Date                                                     \n",
       "A      2016-01-04             18        2121030           NaN   \n",
       "\n",
       "                   Avg_Daily_Return  Std_Daily_Return  Daily_Sharpe_Ratio  \\\n",
       "Symbol Date                                                                 \n",
       "A      2016-01-04          0.000674          0.014962            0.045027   \n",
       "\n",
       "                   Total_Dividend  \n",
       "Symbol Date                        \n",
       "A      2016-01-04           0.345  "
      ]
     },
     "execution_count": 12,
     "metadata": {},
     "output_type": "execute_result"
    }
   ],
   "source": [
    "# Calculates daily average high, low, volume trader for each stock/changes scientific notation to integer value\n",
    "mydata['Avg_Vol_Trader'] = mydata.groupby('Symbol').Volume.transform('mean').apply(lambda x: '%.f' % x)\n",
    "\n",
    "# Builds daily return column\n",
    "mydata['Daily_Return'] = mydata['Adj. Close'].pct_change(1)\n",
    "\n",
    "# Mean Daily Return\n",
    "d_mean_return = mydata.groupby('Symbol').Daily_Return.transform('mean').to_frame()\n",
    "mydata['Avg_Daily_Return'] = d_mean_return\n",
    "\n",
    "# Std Daily\n",
    "d_std_return = mydata.groupby('Symbol').Daily_Return.transform('std').to_frame()\n",
    "mydata['Std_Daily_Return'] = d_std_return\n",
    "\n",
    "# Calculates Daily Sharpe Ratio(Calculates risk adjusted return)\n",
    "# mean return - risk free rate / standard deviation\n",
    "# For this formula we are assuming a risk free rate of 0(different people,different opinions)\n",
    "sr = d_mean_return/d_std_return\n",
    "mydata['Daily_Sharpe_Ratio'] = sr\n",
    "\n",
    "# Total Dividens\n",
    "total_dividen = mydata.groupby('Symbol')['Ex-Dividend'].transform('sum').to_frame()\n",
    "mydata['Total_Dividend'] = total_dividen \n",
    "\n",
    "mydata.head(1)"
   ]
  },
  {
   "cell_type": "code",
   "execution_count": 13,
   "metadata": {},
   "outputs": [
    {
     "data": {
      "text/html": [
       "<div>\n",
       "<style scoped>\n",
       "    .dataframe tbody tr th:only-of-type {\n",
       "        vertical-align: middle;\n",
       "    }\n",
       "\n",
       "    .dataframe tbody tr th {\n",
       "        vertical-align: top;\n",
       "    }\n",
       "\n",
       "    .dataframe thead th {\n",
       "        text-align: right;\n",
       "    }\n",
       "</style>\n",
       "<table border=\"1\" class=\"dataframe\">\n",
       "  <thead>\n",
       "    <tr style=\"text-align: right;\">\n",
       "      <th></th>\n",
       "      <th>Symbol</th>\n",
       "      <th>MarketCap</th>\n",
       "      <th>Yrs_Publ_Trded</th>\n",
       "      <th>Avg_Vol_Trader</th>\n",
       "      <th>Avg_Daily_Return</th>\n",
       "      <th>Std_Daily_Return</th>\n",
       "      <th>Daily_Sharpe_Ratio</th>\n",
       "      <th>Total_Dividend</th>\n",
       "    </tr>\n",
       "  </thead>\n",
       "  <tbody>\n",
       "    <tr>\n",
       "      <th>0</th>\n",
       "      <td>A</td>\n",
       "      <td>21722962316</td>\n",
       "      <td>18</td>\n",
       "      <td>2121030</td>\n",
       "      <td>0.000674</td>\n",
       "      <td>0.014962</td>\n",
       "      <td>0.045027</td>\n",
       "      <td>0.3450</td>\n",
       "    </tr>\n",
       "    <tr>\n",
       "      <th>1</th>\n",
       "      <td>AAN</td>\n",
       "      <td>2929260228</td>\n",
       "      <td>33</td>\n",
       "      <td>724703</td>\n",
       "      <td>-0.000258</td>\n",
       "      <td>0.040896</td>\n",
       "      <td>-0.006307</td>\n",
       "      <td>0.1025</td>\n",
       "    </tr>\n",
       "    <tr>\n",
       "      <th>2</th>\n",
       "      <td>AAP</td>\n",
       "      <td>7534644464</td>\n",
       "      <td>16</td>\n",
       "      <td>1052086</td>\n",
       "      <td>0.015877</td>\n",
       "      <td>0.235453</td>\n",
       "      <td>0.067433</td>\n",
       "      <td>0.1800</td>\n",
       "    </tr>\n",
       "  </tbody>\n",
       "</table>\n",
       "</div>"
      ],
      "text/plain": [
       "  Symbol    MarketCap Yrs_Publ_Trded Avg_Vol_Trader  Avg_Daily_Return  \\\n",
       "0      A  21722962316             18        2121030          0.000674   \n",
       "1    AAN   2929260228             33         724703         -0.000258   \n",
       "2    AAP   7534644464             16        1052086          0.015877   \n",
       "\n",
       "   Std_Daily_Return  Daily_Sharpe_Ratio  Total_Dividend  \n",
       "0          0.014962            0.045027          0.3450  \n",
       "1          0.040896           -0.006307          0.1025  \n",
       "2          0.235453            0.067433          0.1800  "
      ]
     },
     "execution_count": 13,
     "metadata": {},
     "output_type": "execute_result"
    }
   ],
   "source": [
    "mydata = mydata.reset_index(level=1, drop=True).groupby('Symbol').first()\n",
    "mydata = mydata.drop(['Volume','Ex-Dividend','Adj. Close','Daily_Return'], axis=1).reset_index()\n",
    "mydata.head(3)"
   ]
  },
  {
   "cell_type": "code",
   "execution_count": 31,
   "metadata": {},
   "outputs": [
    {
     "data": {
      "text/plain": [
       "(199, 8)"
      ]
     },
     "execution_count": 31,
     "metadata": {},
     "output_type": "execute_result"
    }
   ],
   "source": [
    "mydata.shape"
   ]
  },
  {
   "cell_type": "code",
   "execution_count": 14,
   "metadata": {},
   "outputs": [
    {
     "name": "stdout",
     "output_type": "stream",
     "text": [
      "mean: 0.0\n",
      "std: 1.0\n"
     ]
    },
    {
     "name": "stderr",
     "output_type": "stream",
     "text": [
      "C:\\Users\\Alfredo\\Anaconda3\\lib\\site-packages\\sklearn\\preprocessing\\data.py:164: UserWarning: Numerical issues were encountered when centering the data and might not be solved. Dataset may contain too large values. You may need to prescale your features.\n",
      "  warnings.warn(\"Numerical issues were encountered \"\n"
     ]
    }
   ],
   "source": [
    "# Builds object data types to float for scaling\n",
    "mydata['MarketCap'] = mydata['MarketCap'].astype('float64')\n",
    "mydata['Yrs_Publ_Trded'] = mydata['Yrs_Publ_Trded'].astype('float64')\n",
    "mydata['Avg_Vol_Trader'] = mydata['Avg_Vol_Trader'].astype('float64')\n",
    "\n",
    "# Turns data into a matrix box\n",
    "data = mydata.as_matrix(columns=[ 'MarketCap', 'Yrs_Publ_Trded', 'Avg_Vol_Trader',\n",
    "       'Avg_Daily_Return', 'Std_Daily_Return', 'Daily_Sharpe_Ratio',\n",
    "       'Total_Dividend'])\n",
    "x_cols = data\n",
    "\n",
    "# scales data\n",
    "scaled_cols = preprocessing.scale(x_cols)\n",
    "print('mean:',round(scaled_cols.mean()))\n",
    "print('std:',scaled_cols.std())"
   ]
  },
  {
   "cell_type": "code",
   "execution_count": 38,
   "metadata": {},
   "outputs": [
    {
     "name": "stdout",
     "output_type": "stream",
     "text": [
      "(139, 7)\n",
      "(60, 7)\n"
     ]
    }
   ],
   "source": [
    "#splits data\n",
    "clust_train, clust_test = train_test_split(scaled_cols, test_size=.3, random_state=123)\n",
    "\n",
    "print(clust_train.shape)\n",
    "print(clust_test.shape)"
   ]
  },
  {
   "cell_type": "code",
   "execution_count": 18,
   "metadata": {},
   "outputs": [
    {
     "data": {
      "image/png": "[encoded data removed]",
      "text/plain": [
       "<matplotlib.figure.Figure at 0x20e1712cf98>"
      ]
     },
     "metadata": {},
     "output_type": "display_data"
    }
   ],
   "source": [
    "# Searching for elbow(optimal number of clusters)\n",
    "# Average distance value to centroids\n",
    "K_range = range(2,11)\n",
    "y =[]\n",
    "\n",
    "for k in K_range:\n",
    "    k_means = KMeans(n_clusters= k, random_state = 1, init = 'k-means++')\n",
    "    k_means.fit(clust_train)\n",
    "    labels=k_means.labels_\n",
    "    y.append(k_means.inertia_)\n",
    "\n",
    "plt.plot(K_range, y, color='blue')\n",
    "plt.xlabel('# of Clusters')\n",
    "plt.ylabel('Related to Cluster Sum of Square')\n",
    "plt.title('Related to Cluster Sum of Square Vs # of Clusters')\n",
    "plt.show()"
   ]
  },
  {
   "cell_type": "code",
   "execution_count": 50,
   "metadata": {},
   "outputs": [
    {
     "data": {
      "text/plain": [
       "KMeans(algorithm='auto', copy_x=True, init='k-means++', max_iter=300,\n",
       "    n_clusters=4, n_init=10, n_jobs=1, precompute_distances='auto',\n",
       "    random_state=None, tol=0.0001, verbose=0)"
      ]
     },
     "execution_count": 50,
     "metadata": {},
     "output_type": "execute_result"
    }
   ],
   "source": [
    "X = clust_train\n",
    "Kmean = KMeans(n_clusters=4)\n",
    "Kmean.fit(X)"
   ]
  },
  {
   "cell_type": "code",
   "execution_count": 51,
   "metadata": {},
   "outputs": [
    {
     "data": {
      "text/plain": [
       "139"
      ]
     },
     "execution_count": 51,
     "metadata": {},
     "output_type": "execute_result"
    }
   ],
   "source": [
    "from sklearn.decomposition import PCA\n",
    "pca_2 = PCA(2)\n",
    "\n",
    "plot_columns = pca_2.fit_transform(clust_train)\n",
    "len(plot_columns)"
   ]
  },
  {
   "cell_type": "code",
   "execution_count": 52,
   "metadata": {},
   "outputs": [
    {
     "data": {
      "text/plain": [
       "array([0, 3, 0, 0, 0, 0, 0, 0, 0, 0, 0, 0, 0, 0, 0, 0, 0, 0, 0, 0, 0, 0, 0,\n",
       "       0, 0, 0, 0, 0, 3, 0, 0, 3, 0, 0, 0, 0, 0, 3, 0, 0, 0, 0, 0, 3, 0, 0,\n",
       "       0, 0, 0, 0, 0, 0, 0, 0, 0, 3, 0, 0, 0, 0, 0, 0, 0, 0, 0, 0, 3, 0, 0,\n",
       "       0, 0, 0, 0, 0, 0, 0, 0, 2, 0, 0, 0, 0, 0, 3, 0, 3, 0, 0, 0, 0, 3, 0,\n",
       "       0, 0, 3, 0, 0, 0, 0, 3, 0, 3, 0, 0, 0, 0, 0, 0, 0, 0, 3, 0, 0, 0, 0,\n",
       "       3, 3, 0, 0, 0, 0, 0, 0, 3, 0, 0, 0, 0, 0, 0, 0, 0, 0, 0, 0, 1, 0, 0,\n",
       "       0])"
      ]
     },
     "execution_count": 52,
     "metadata": {},
     "output_type": "execute_result"
    }
   ],
   "source": [
    "# Cluster/Target value given to each Individual point in dataset\n",
    "Kmean.labels_"
   ]
  },
  {
   "cell_type": "code",
   "execution_count": 53,
   "metadata": {},
   "outputs": [
    {
     "data": {
      "text/plain": [
       "array([[ -2.71887300e-01,  -1.68093364e-01,  -1.46473256e-01,\n",
       "         -1.45042866e-01,  -1.43244379e-01,  -5.47876687e-02,\n",
       "         -2.27180157e-01],\n",
       "       [  7.78715188e+00,   6.39249753e-01,   1.30412698e+01,\n",
       "         -3.24215123e-01,  -2.06843362e-01,  -9.89911576e-01,\n",
       "         -4.61269656e-01],\n",
       "       [ -4.30541538e-01,  -1.00721027e+00,  -1.09854962e-02,\n",
       "          1.16396666e+01,   1.18448053e+01,   8.23649999e-01,\n",
       "         -6.17690480e-01],\n",
       "       [  1.51201256e+00,   9.60385918e-01,   3.57357067e-01,\n",
       "          8.09344300e-01,   7.71123684e-01,   4.78539943e-01,\n",
       "          1.57098526e+00]])"
      ]
     },
     "execution_count": 53,
     "metadata": {},
     "output_type": "execute_result"
    }
   ],
   "source": [
    "# Centroids cordinates\n",
    "Kmean.cluster_centers_"
   ]
  },
  {
   "cell_type": "code",
   "execution_count": 54,
   "metadata": {},
   "outputs": [
    {
     "data": {
      "image/png": "[encoded data removed]",
      "text/plain": [
       "<matplotlib.figure.Figure at 0x20e215a20f0>"
      ]
     },
     "metadata": {},
     "output_type": "display_data"
    }
   ],
   "source": [
    "# plot columns\n",
    "plt.scatter(x=plot_columns[:,0], y=plot_columns[:,1], c=Kmean.labels_,)\n",
    "plt.xlabel('Canonical variable 1')\n",
    "plt.ylabel('Canonical variable 2')\n",
    "plt.title('Scatterplot of Canonical Variables for # of Clusters')\n",
    "plt.show()"
   ]
  },
  {
   "cell_type": "code",
   "execution_count": null,
   "metadata": {},
   "outputs": [],
   "source": []
  }
 ],
 "metadata": {
  "kernelspec": {
   "display_name": "Python 3",
   "language": "python",
   "name": "python3"
  },
  "language_info": {
   "codemirror_mode": {
    "name": "ipython",
    "version": 3
   },
   "file_extension": ".py",
   "mimetype": "text/x-python",
   "name": "python",
   "nbconvert_exporter": "python",
   "pygments_lexer": "ipython3",
   "version": "3.5.4"
  }
 },
 "nbformat": 4,
 "nbformat_minor": 2
}
